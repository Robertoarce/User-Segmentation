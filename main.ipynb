{
 "cells": [
  {
   "cell_type": "markdown",
   "metadata": {},
   "source": [
    "\n",
    "---"
   ]
  },
  {
   "cell_type": "markdown",
   "metadata": {},
   "source": [
    "\n",
    "The Business Case is 2-fold :\n",
    "\n",
    "1. Segmentation: \n",
    "\n",
    "- Identify new user segmentation opportunities based on *__behavior data__* and your understanding of *__business challenges__* ;\n",
    "- propose an approach to test the relevance of the segmentation \n",
    "- and how to implement it in the product\n",
    "\n",
    "\n",
    "1. Plan To Improve\n",
    "- Present a plan to improve (on your opinion) player matchmaking (= how Blitz decides who plays against whom),\n",
    "- from proposing algorithm improvements to testing and implementing in the product\n",
    "\n",
    "\n",
    "Instruction :\n",
    "\n",
    "Deadline : 1 week\n",
    "\n",
    "Format : 3 pages memo on Google Doc"
   ]
  },
  {
   "cell_type": "markdown",
   "metadata": {},
   "source": [
    "---\n",
    "---\n",
    "# Segmenation tool - start\n",
    "---"
   ]
  },
  {
   "cell_type": "markdown",
   "metadata": {},
   "source": [
    "### Objective Assumption:\n",
    "#### Our objective is to be able to segment users so that we can improve profit by seeing what behaviours relate paying users (payers) from non-paying users (non-payers). \n"
   ]
  },
  {
   "cell_type": "markdown",
   "metadata": {},
   "source": [
    "---"
   ]
  },
  {
   "cell_type": "markdown",
   "metadata": {},
   "source": [
    "# Agenda:\n",
    "\n",
    "Start Data Treatement\n",
    "1. Load Data + quality check \n",
    "1. Exploratory Data Analysis (EDA)\n",
    "1. Feature Engineering\n",
    "1. Pre-processing\n",
    "\n",
    "Start ML PIPELINE\n",
    "1. Model Creation-Training\n",
    "1. Evaluation\n",
    "1. Results\n",
    "\n",
    "\n",
    "---\n",
    "---"
   ]
  },
  {
   "cell_type": "markdown",
   "metadata": {},
   "source": [
    "# Imports"
   ]
  },
  {
   "cell_type": "code",
   "execution_count": null,
   "metadata": {},
   "outputs": [],
   "source": [
    "# Main imports\n",
    "import polars as pl\n",
    "import pandas as pd\n",
    "import matplotlib.pyplot as plt\n",
    "import seaborn as sns\n",
    "import numpy as np\n",
    "\n",
    "\n",
    "\n",
    "# Secondary Imports\n",
    "import matplotlib.ticker as ticker\n",
    "import polars.selectors as cs"
   ]
  },
  {
   "cell_type": "code",
   "execution_count": null,
   "metadata": {},
   "outputs": [],
   "source": [
    "#own functions\n",
    "from visualizations import histo\n"
   ]
  },
  {
   "cell_type": "code",
   "execution_count": null,
   "metadata": {},
   "outputs": [],
   "source": [
    "pl.Config.set_tbl_cols(200)  \n",
    "pl.Config.set_tbl_rows(10)"
   ]
  },
  {
   "cell_type": "markdown",
   "metadata": {},
   "source": [
    "> Given the size of data  Polars librerary will be a better suit instead of Pandas."
   ]
  },
  {
   "cell_type": "markdown",
   "metadata": {},
   "source": [
    "# ---- Start Data Treatement ----"
   ]
  },
  {
   "cell_type": "markdown",
   "metadata": {},
   "source": [
    "# 1) Load Data"
   ]
  },
  {
   "cell_type": "code",
   "execution_count": null,
   "metadata": {},
   "outputs": [],
   "source": [
    "df = pl.read_parquet(\"Copy of Copy of blitz_case_study.parquet\")\n",
    "df.head(3)\n"
   ]
  },
  {
   "cell_type": "markdown",
   "metadata": {},
   "source": [
    "### Formating\n",
    "Cast columns to the right format"
   ]
  },
  {
   "cell_type": "code",
   "execution_count": null,
   "metadata": {},
   "outputs": [],
   "source": [
    "df = df.with_columns([\n",
    "    pl.col('entry_price_dollars').cast(pl.Float64), \n",
    "])\n",
    "df.head(3)"
   ]
  },
  {
   "cell_type": "markdown",
   "metadata": {},
   "source": [
    "---\n",
    "# 2)  EDA"
   ]
  },
  {
   "cell_type": "code",
   "execution_count": null,
   "metadata": {},
   "outputs": [],
   "source": [
    "df.head(5)"
   ]
  },
  {
   "cell_type": "code",
   "execution_count": null,
   "metadata": {},
   "outputs": [],
   "source": [
    "categorical_cols = [\"user_id\",\"game_id\",\"match_type\",\"entry_credit_type\"]\n",
    "numerical_cols = [\"entry_price_dollars\",\"entry_price_coins\",\"prize_dollars\",\"prize_coins\",\"total_players\",\"match_rank\",\"seconds_until_result\"]\n",
    "temporal_cols = [\"started_at\"]\n",
    "target = None\n",
    "\n",
    "#not missing any col, assert should be true\n",
    "assert len(categorical_cols + numerical_cols + temporal_cols) == len( df.columns), 'There are missing cols'"
   ]
  },
  {
   "cell_type": "code",
   "execution_count": null,
   "metadata": {},
   "outputs": [],
   "source": [
    "#Quick look\n",
    "for col in df.columns:\n",
    "    unique_values = df.select(pl.col(col)).unique().to_series().to_list()\n",
    "    unique_count = len(unique_values)\n",
    "    print(col, \"_\"*(30-len(col)), \" : unique count=> \", unique_count, \" \"*(7- int(len(str(unique_count)))),\"| examples:\", unique_values[:10])"
   ]
  },
  {
   "cell_type": "markdown",
   "metadata": {},
   "source": [
    "### Duplicates"
   ]
  },
  {
   "cell_type": "code",
   "execution_count": null,
   "metadata": {},
   "outputs": [],
   "source": [
    "df.filter(df.is_duplicated()).height"
   ]
  },
  {
   "cell_type": "markdown",
   "metadata": {},
   "source": [
    "### Missing Values"
   ]
  },
  {
   "cell_type": "code",
   "execution_count": null,
   "metadata": {},
   "outputs": [],
   "source": [
    "for col in df.columns:\n",
    "  print(f\"{col} = {df[col].null_count()}\")"
   ]
  },
  {
   "cell_type": "markdown",
   "metadata": {},
   "source": [
    "> No missing values\n",
    "\n",
    "> No Duplicates\n",
    "\n",
    "> The quality of the data seems to be ok."
   ]
  },
  {
   "cell_type": "markdown",
   "metadata": {},
   "source": [
    "### Adhoc Questions"
   ]
  },
  {
   "cell_type": "code",
   "execution_count": null,
   "metadata": {},
   "outputs": [],
   "source": [
    "# Masks\n",
    "\n",
    "dollar_type = df['entry_credit_type'] == \"DOLLAR\"\n",
    "coin_type = df['entry_credit_type'] == \"COIN\"\n",
    "\n",
    "coin_entry = ~df['entry_price_coins'].is_null() # coin_entry_nul\n",
    "coin_outcome = ~df['prize_coins'].is_null() # coin_prix_nul\n",
    "\n",
    "dollar_entry = ~df['entry_price_dollars'].is_null() # coin_entry_nul\n",
    "dollar_outcome = ~df['prize_dollars'].is_null() # coin_prix_nul"
   ]
  },
  {
   "cell_type": "code",
   "execution_count": null,
   "metadata": {},
   "outputs": [],
   "source": [
    "#Could there be a user  with NO coin entry and  prize coins?  -> YES,  dollar based\n",
    "df.filter(~coin_entry &  ~coin_outcome ).head(2)\n",
    "#df.filter(~coin_entry &  ~coin_outcome & coin_type).head(2) --> zero results, must have dollars\n"
   ]
  },
  {
   "cell_type": "code",
   "execution_count": null,
   "metadata": {},
   "outputs": [],
   "source": [
    "#Could there be a user entry with NO Dollar entry and  Dollar Prize ?  -> Yes (coin based)\n",
    "df.filter(~dollar_entry & dollar_outcome ).head(3)"
   ]
  },
  {
   "cell_type": "code",
   "execution_count": null,
   "metadata": {},
   "outputs": [],
   "source": [
    "df.filter(~dollar_entry & dollar_outcome )['match_type'].unique()"
   ]
  },
  {
   "cell_type": "markdown",
   "metadata": {},
   "source": [
    "> So the company can have a loss, in the exchange of coins for dollars"
   ]
  },
  {
   "cell_type": "markdown",
   "metadata": {},
   "source": [
    "## Variables "
   ]
  },
  {
   "cell_type": "markdown",
   "metadata": {},
   "source": [
    "### Temporal"
   ]
  },
  {
   "cell_type": "markdown",
   "metadata": {},
   "source": [
    "#### Started_at "
   ]
  },
  {
   "cell_type": "code",
   "execution_count": null,
   "metadata": {},
   "outputs": [],
   "source": [
    "df['started_at'].min(), df['started_at'].max(),"
   ]
  },
  {
   "cell_type": "markdown",
   "metadata": {},
   "source": [
    "### Categorical"
   ]
  },
  {
   "cell_type": "markdown",
   "metadata": {},
   "source": [
    "#### User_id"
   ]
  },
  {
   "cell_type": "code",
   "execution_count": null,
   "metadata": {},
   "outputs": [],
   "source": [
    "print(f\"unique users = {df['user_id'].n_unique()},  total rows = { df['user_id'].len()}\")"
   ]
  },
  {
   "cell_type": "code",
   "execution_count": null,
   "metadata": {},
   "outputs": [],
   "source": [
    "df['user_id'].n_unique()/df['user_id'].len() * 100"
   ]
  },
  {
   "cell_type": "code",
   "execution_count": null,
   "metadata": {},
   "outputs": [],
   "source": [
    "af = df.group_by('user_id').len().rename({\"len\": \"games_played\"})\n",
    "af2 = af.group_by('games_played').len().rename({\"len\":'users'}).sort(by='users', descending = True)\n",
    "total_users = af2['users'].sum()\n",
    "af2 = af2.with_columns(\n",
    "    (pl.col(\"users\") / total_users * 100).round(3).alias(\"%_total\")\n",
    ")\n",
    "af2 = af2.with_columns(\n",
    "    (pl.col(\"users\").cum_sum() / total_users * 100).round(2).alias(\"cumul_percent\")\n",
    ")\n",
    "\n",
    "af2.head(5)"
   ]
  },
  {
   "cell_type": "code",
   "execution_count": null,
   "metadata": {},
   "outputs": [],
   "source": [
    "af2.select('cumul_percent').to_pandas().plot()"
   ]
  },
  {
   "cell_type": "code",
   "execution_count": null,
   "metadata": {},
   "outputs": [],
   "source": [
    "af2.filter(af2['games_played']< 100).select('cumul_percent').to_pandas().plot()"
   ]
  },
  {
   "cell_type": "markdown",
   "metadata": {},
   "source": [
    "> Almost 1/4th of users dont play more than 3 games and 50% dont play more than 15 games \n",
    "\n",
    "> --> This could be due to the data size, the last arrivals dont have time enought to play more.\n"
   ]
  },
  {
   "cell_type": "markdown",
   "metadata": {},
   "source": [
    "#### Game_id"
   ]
  },
  {
   "cell_type": "code",
   "execution_count": null,
   "metadata": {},
   "outputs": [],
   "source": [
    "df['game_id'].unique().len()"
   ]
  },
  {
   "cell_type": "code",
   "execution_count": null,
   "metadata": {},
   "outputs": [],
   "source": [
    "df.group_by('game_id').len().to_pandas()"
   ]
  },
  {
   "cell_type": "code",
   "execution_count": null,
   "metadata": {},
   "outputs": [],
   "source": [
    "game_counts = df.group_by('game_id').len().to_pandas()\n",
    "histo(game_counts,'game_id', title='Number of records per games_id',symbol='M')"
   ]
  },
  {
   "cell_type": "code",
   "execution_count": null,
   "metadata": {},
   "outputs": [],
   "source": [
    "game_counts = df.group_by(['game_id']).agg(pl.n_unique('user_id').alias('count')).to_pandas()\n",
    "histo(game_counts,'game_id', title='Number of records per UNIQUE games_id',symbol='M')"
   ]
  },
  {
   "cell_type": "markdown",
   "metadata": {},
   "source": [
    "#### Match_type "
   ]
  },
  {
   "cell_type": "code",
   "execution_count": null,
   "metadata": {},
   "outputs": [],
   "source": [
    "game_counts = df.group_by('match_type').len().to_pandas()\n",
    "histo(game_counts,'match_type', title='Number of records per match_type',symbol='M')"
   ]
  },
  {
   "cell_type": "markdown",
   "metadata": {},
   "source": [
    "> Clear preference"
   ]
  },
  {
   "cell_type": "code",
   "execution_count": null,
   "metadata": {},
   "outputs": [],
   "source": [
    "game_counts = df.group_by(['game_id']).agg(pl.n_unique('match_type').alias('count')).to_pandas()\n",
    "histo(game_counts,'game_id', title='Number of records per UNIQUE match_type',symbol='None' )"
   ]
  },
  {
   "cell_type": "markdown",
   "metadata": {},
   "source": [
    "> Not all games have all match types"
   ]
  },
  {
   "cell_type": "markdown",
   "metadata": {},
   "source": [
    "#### Entry_credit_type"
   ]
  },
  {
   "cell_type": "code",
   "execution_count": null,
   "metadata": {},
   "outputs": [],
   "source": [
    "game_counts = df.group_by('entry_credit_type').len().to_pandas()\n",
    "histo(game_counts,'entry_credit_type', title='Number of records per entry_credit_type',symbol='M')"
   ]
  },
  {
   "cell_type": "code",
   "execution_count": null,
   "metadata": {},
   "outputs": [],
   "source": [
    "game_counts = df.group_by(['entry_credit_type']).agg(pl.n_unique('user_id').alias('count')).to_pandas()\n",
    "histo(game_counts,'entry_credit_type', title='Number of records per UNIQUE entry_credit_type',symbol='M')"
   ]
  },
  {
   "cell_type": "markdown",
   "metadata": {},
   "source": [
    "###  Numerical Variables"
   ]
  },
  {
   "cell_type": "code",
   "execution_count": null,
   "metadata": {},
   "outputs": [],
   "source": [
    "df[numerical_cols].describe()"
   ]
  },
  {
   "cell_type": "code",
   "execution_count": null,
   "metadata": {},
   "outputs": [],
   "source": [
    "for var in numerical_cols:\n",
    "    print(var, \"= \",df[var].n_unique())"
   ]
  },
  {
   "cell_type": "markdown",
   "metadata": {},
   "source": [
    "#### Entry_price_dollars"
   ]
  },
  {
   "cell_type": "code",
   "execution_count": null,
   "metadata": {},
   "outputs": [],
   "source": [
    "# get the most used entry prices in dollars\n",
    "\n",
    "af = (df.filter(~df['entry_price_dollars'].is_null())\n",
    "   .group_by('user_id')\n",
    "   .agg(pl.col('entry_price_dollars').mode().alias('mode_prices'))\n",
    "   .explode('mode_prices')\n",
    "   .rename({'mode_prices': 'entry_price_dollars'}))\n",
    "af.head(9)"
   ]
  },
  {
   "cell_type": "code",
   "execution_count": null,
   "metadata": {},
   "outputs": [],
   "source": [
    "game_counts = af.group_by('entry_price_dollars').len().to_pandas()\n",
    "histo(game_counts,'entry_price_dollars', title='Most used entry_price_dollars',symbol='D')"
   ]
  },
  {
   "cell_type": "code",
   "execution_count": null,
   "metadata": {},
   "outputs": [],
   "source": [
    "game_counts = af.group_by('entry_price_dollars').len().to_pandas()\n",
    "game_counts = game_counts[game_counts.entry_price_dollars < 10]\n",
    "histo(game_counts,'entry_price_dollars', title='Usual entry price in dollars (ZOOMED)',symbol='D')"
   ]
  },
  {
   "cell_type": "markdown",
   "metadata": {},
   "source": [
    "> The usual betting for majority of users is less than 3 dolars per game."
   ]
  },
  {
   "cell_type": "markdown",
   "metadata": {},
   "source": [
    "#### Entry_price_coins"
   ]
  },
  {
   "cell_type": "code",
   "execution_count": null,
   "metadata": {},
   "outputs": [],
   "source": [
    "af = (df.filter(~df['entry_price_coins'].is_null())\n",
    "   .group_by('user_id')\n",
    "   .agg(pl.col('entry_price_coins').mode().alias('mode_prices'))\n",
    "   .explode('mode_prices')\n",
    "   .rename({'mode_prices': 'entry_price_coins'}))\n",
    "af.head(9)\n"
   ]
  },
  {
   "cell_type": "code",
   "execution_count": null,
   "metadata": {},
   "outputs": [],
   "source": [
    "game_counts = af.group_by('entry_price_coins').len().to_pandas()\n",
    "histo(game_counts,'entry_price_coins', title='Most used entry_price_coins',symbol='D')"
   ]
  },
  {
   "cell_type": "markdown",
   "metadata": {},
   "source": [
    "#### Prize_dollars "
   ]
  },
  {
   "cell_type": "code",
   "execution_count": null,
   "metadata": {},
   "outputs": [],
   "source": [
    "df.filter(df['prize_dollars']>0).head(4)"
   ]
  },
  {
   "cell_type": "code",
   "execution_count": null,
   "metadata": {},
   "outputs": [],
   "source": [
    "df.filter(df['prize_dollars']>0)['prize_dollars'].to_pandas().hist(bins=30)\n"
   ]
  },
  {
   "cell_type": "code",
   "execution_count": null,
   "metadata": {},
   "outputs": [],
   "source": [
    "af = (df.filter(df['prize_dollars'] > 0)\n",
    "   .group_by('user_id')\n",
    "   .agg(pl.col('prize_dollars').mode().alias('mode_prices'))\n",
    "   .explode('mode_prices')\n",
    "   .rename({'mode_prices': 'prize_dollars'}))\n",
    "af.head(9)\n",
    "\n",
    "game_counts = af.group_by('prize_dollars').len().to_pandas()\n",
    "histo(game_counts,'prize_dollars', title='Most used prize_dollars',symbol='D')\n"
   ]
  },
  {
   "cell_type": "markdown",
   "metadata": {},
   "source": [
    "#### Prize_coins"
   ]
  },
  {
   "cell_type": "code",
   "execution_count": null,
   "metadata": {},
   "outputs": [],
   "source": [
    "df.filter(df['prize_coins']>0)['prize_coins'].to_pandas().hist(bins=10)\n"
   ]
  },
  {
   "cell_type": "code",
   "execution_count": null,
   "metadata": {},
   "outputs": [],
   "source": [
    "af = (df.filter(df['prize_coins'] > 0)\n",
    "   .group_by('user_id')\n",
    "   .agg(pl.col('prize_coins').mode().alias('mode_prices'))\n",
    "   .explode('mode_prices')\n",
    "   .rename({'mode_prices': 'prize_coins'}))\n",
    "af.head(9)\n",
    "\n",
    "game_counts = af.group_by('prize_coins').len().to_pandas()\n",
    "histo(game_counts,'prize_coins', title='Most used prize_coins',symbol='D')\n"
   ]
  },
  {
   "cell_type": "markdown",
   "metadata": {},
   "source": [
    "#### Total_players"
   ]
  },
  {
   "cell_type": "code",
   "execution_count": null,
   "metadata": {},
   "outputs": [],
   "source": [
    "df.filter(df['total_players']>0)['total_players'].to_pandas().hist(bins=10)\n"
   ]
  },
  {
   "cell_type": "markdown",
   "metadata": {},
   "source": [
    "---\n",
    "## Adhoc Questions"
   ]
  },
  {
   "cell_type": "markdown",
   "metadata": {},
   "source": [
    "### 1. When does a user start putting real money? (first dollar entry_credit_type)"
   ]
  },
  {
   "cell_type": "code",
   "execution_count": null,
   "metadata": {},
   "outputs": [],
   "source": [
    "#order\n",
    "sorted_df = df.sort([\"user_id\", \"started_at\"], descending=[False, False])\n",
    "sorted_df = sorted_df.with_columns(\n",
    "    pl.when(pl.col(\"seconds_until_result\") > 0)\n",
    "      .then(1)\n",
    "      .otherwise(0)\n",
    "      .alias(\"is_completed\"),\n",
    ")\n"
   ]
  },
  {
   "cell_type": "code",
   "execution_count": null,
   "metadata": {},
   "outputs": [],
   "source": [
    "sorted_df = sorted_df.with_columns(\n",
    "   pl.col('is_completed')\n",
    "      .cum_sum()\n",
    "      .over(['user_id'])\n",
    "      .alias(\"game_number\")\n",
    " )\n",
    "\n",
    "sorted_df = sorted_df.with_columns(\n",
    "    pl.when((pl.col(\"is_completed\") == 1) & (pl.col(\"entry_credit_type\") == \"DOLLAR\"))\n",
    "    .then(1)\n",
    "    .otherwise(0)\n",
    "    .alias(\"completed_dollar_game\")\n",
    ")\n",
    "\n",
    "first_dollar_games = (\n",
    "    sorted_df\n",
    "    .filter(pl.col(\"completed_dollar_game\") == 1)\n",
    "    .group_by(\"user_id\")\n",
    "    .agg(pl.min(\"game_number\").alias(\"first_dollar_game_number\"))\n",
    ")\n",
    " \n",
    "sorted_df = sorted_df.join(\n",
    "    first_dollar_games,\n",
    "    on=\"user_id\",\n",
    "    how=\"left\"\n",
    ")\n",
    "\n",
    "# adding day difference\n",
    "sorted_df = sorted_df.with_columns(\n",
    "    pl.col(\"started_at\") \n",
    "    .min()\n",
    "    .over(\"user_id\")\n",
    "    .alias(\"first_game_date\")\n",
    ")\n",
    "\n",
    "\n",
    "sorted_df = sorted_df.with_columns(\n",
    "    (pl.col(\"started_at\") - pl.col(\"first_game_date\"))\n",
    "    .dt.total_days()\n",
    "    .floor()\n",
    "    .cast(pl.Int64).alias(\"days_since_first_game\")\n",
    ")\n",
    "\n",
    "  "
   ]
  },
  {
   "cell_type": "code",
   "execution_count": null,
   "metadata": {},
   "outputs": [],
   "source": [
    "# proof first_dollar_game_number works well\n",
    "# user = 'JbAAfDVPSIdl0Xjr5lCk6V7A7nr1'\n",
    "# sorted_df.filter(sorted_df['user_id'] == user).tail(30)"
   ]
  },
  {
   "cell_type": "code",
   "execution_count": null,
   "metadata": {},
   "outputs": [],
   "source": [
    "# How many days per user until played a DOLLAR entry credit type game\n",
    "first_dollar_game_number_per_user = sorted_df.group_by('user_id')\\\n",
    "    .agg(pl.col('first_dollar_game_number')\n",
    "    .min())\n",
    "first_dollar_game_number_per_user.head(3)\n"
   ]
  },
  {
   "cell_type": "code",
   "execution_count": null,
   "metadata": {},
   "outputs": [],
   "source": [
    "#show only non null users with less than 20 days\n",
    "first_dollar_game_number_per_user.filter(\\\n",
    "  (~first_dollar_game_number_per_user['first_dollar_game_number'].is_null())\\\n",
    "    & (first_dollar_game_number_per_user['first_dollar_game_number'] <20))\\\n",
    "      .to_pandas().hist(bins=300)"
   ]
  },
  {
   "cell_type": "code",
   "execution_count": null,
   "metadata": {},
   "outputs": [],
   "source": [
    "#show only non null users with cumulatative curb\n",
    "\n",
    "filtered = first_dollar_game_number_per_user.filter(\n",
    "    (~first_dollar_game_number_per_user['first_dollar_game_number'].is_null()) \n",
    "\n",
    ").to_pandas()\n",
    "\n",
    "\n",
    "filtered['first_dollar_game_number'].hist(\n",
    "    bins=300, \n",
    "    cumulative=True, \n",
    "    density=True,\n",
    "    histtype='step'\n",
    ")\n",
    "plt.xlabel('First Dollar Game Number')\n",
    "plt.ylabel('Cumulative Proportion')\n",
    "plt.title('Cumulative Distribution of First Dollar Game Number')\n",
    "plt.show()"
   ]
  },
  {
   "cell_type": "code",
   "execution_count": null,
   "metadata": {},
   "outputs": [],
   "source": [
    "# Make a zoom to 100 max games\n",
    "filtered = first_dollar_game_number_per_user.filter(\n",
    "    (~first_dollar_game_number_per_user['first_dollar_game_number'].is_null()) \n",
    "\n",
    ").to_pandas()\n",
    "\n",
    "\n",
    "filtered['first_dollar_game_number'].hist(\n",
    "    bins=300, \n",
    "    cumulative=True, \n",
    "    density=True,\n",
    "    histtype='step'\n",
    ")\n",
    "plt.xlabel('First Dollar Game Number')\n",
    "plt.ylabel('Cumulative Proportion')\n",
    "plt.title('Cumulative Distribution of First Dollar Game Number')\n",
    "# For Zoom\n",
    "plt.xlim(0, 100)\n",
    "\n",
    "\n",
    "plt.show()"
   ]
  },
  {
   "cell_type": "markdown",
   "metadata": {},
   "source": [
    "> If the users are going to become dollar gamblers, 40 games should be enough for the majority."
   ]
  },
  {
   "cell_type": "markdown",
   "metadata": {},
   "source": [
    "### 2. How many days does this represents on avg? "
   ]
  },
  {
   "cell_type": "code",
   "execution_count": null,
   "metadata": {},
   "outputs": [],
   "source": [
    "# Get the day when they started playing with Dollars since first day played.\n",
    "days_since_first_game_per_user = sorted_df\\\n",
    "    .filter(sorted_df['game_number'] == sorted_df['first_dollar_game_number'])\\\n",
    "        .group_by('user_id')\\\n",
    "            .agg(pl.col('days_since_first_game')\\\n",
    "                .min())\n",
    "aux = days_since_first_game_per_user.to_pandas()\n",
    "\n",
    "aux['days_since_first_game'].hist(\n",
    "    bins=300, \n",
    "    cumulative=True, \n",
    "    density=True,\n",
    "    histtype='step'\n",
    ")\n",
    "plt.xlabel('Days to play a Dollar entry game')\n",
    "plt.ylabel('Cumulative Proportion')\n",
    "plt.title('Cumulative Distribution of days_since_first_game')\n",
    "plt.show()\n"
   ]
  },
  {
   "cell_type": "markdown",
   "metadata": {},
   "source": [
    "> By day 5 most users will already be playing a Dollar game, and by day 20 almost everyone (this is due to our constrains in data, check next result).\n",
    "\n",
    "> We will use these features (first_dollar_game_number_per_user and days_since_first_game_per_user ) in Feature Engineering."
   ]
  },
  {
   "cell_type": "markdown",
   "metadata": {},
   "source": [
    "### 3. What is the seniority in our data?"
   ]
  },
  {
   "cell_type": "code",
   "execution_count": null,
   "metadata": {},
   "outputs": [],
   "source": [
    "#Label Seniority (days_since_first_game)\n",
    "min_start_date =  df.group_by(['user_id']).agg(pl.col('started_at').min().alias('min_start_at'))\n",
    "af = df.join(min_start_date, on='user_id', how='left')\n",
    "af = af.with_columns((pl.col(\"started_at\") - pl.col(\"min_start_at\")).dt.total_days().alias(\"days_since_first_game\"))\n",
    "\n",
    "af.group_by('user_id').agg(pl.col('days_since_first_game').max()).to_pandas().hist(bins=30)\n",
    "\n"
   ]
  },
  {
   "cell_type": "code",
   "execution_count": null,
   "metadata": {},
   "outputs": [],
   "source": [
    "df['started_at'].min(), df['started_at'].max()"
   ]
  },
  {
   "cell_type": "markdown",
   "metadata": {},
   "source": [
    "---\n",
    "# 3) Feature Engineering\n"
   ]
  },
  {
   "cell_type": "markdown",
   "metadata": {},
   "source": [
    "**Objective:**\\\n",
    "The segmentation aims to study users monetization behavior. \\\n",
    "\n",
    "Meaning: we want to know the __**behaviours**__ that relates users that use DOLLARS ('PAYERS') \\\n",
    "and the opposite behavior, the NON PAYERS. This will give insights on the actions that can take for converting Non-Payers to Payers.\n",
    "\n",
    "**TO DO:**\n",
    "1) Mark players who had and had NOT betted at least one game (Label: payers / non-payers  )\n",
    "1) Mark players who probably didnt have enough time to bet (30 days) and take them out of the study (Label: 30Days_to_play).\n",
    "1) Create Dummies, for later usage.\n",
    "1) Summarize per user, in one row, as much knowledge on behaviour that we can from the data we posses (feature engineering).\n",
    "1) Convert to pandas for pre-processing.\n",
    "\n",
    "**Expected outcome:**  features_df\n"
   ]
  },
  {
   "cell_type": "code",
   "execution_count": null,
   "metadata": {},
   "outputs": [],
   "source": [
    "df.head(3)"
   ]
  },
  {
   "cell_type": "markdown",
   "metadata": {},
   "source": [
    "#### a) Label: payers / non-payers classification"
   ]
  },
  {
   "cell_type": "code",
   "execution_count": null,
   "metadata": {},
   "outputs": [],
   "source": [
    "is_payer_table = df.join(first_dollar_game_number_per_user, on=\"user_id\", how=\"left\")\n",
    "\n",
    "is_payer_table = is_payer_table.with_columns(\n",
    "    pl.when(pl.col(\"first_dollar_game_number\")>0)\n",
    "    .then(1)\n",
    "    .otherwise(0)\n",
    "    .alias(\"is_payer\")\n",
    ")\n",
    "\n",
    "is_payer_table = (\n",
    "    is_payer_table.group_by(\"user_id\")\\\n",
    "        .agg( pl.col(\"is_payer\").max().alias(\"is_payer\"))\n",
    "    )\n",
    "\n",
    "# Ensure no duplicates\n",
    "assert is_payer_table.filter(is_payer_table['user_id'].is_duplicated()).shape[0] == 0\n",
    "\n",
    "is_payer_table.head(2)"
   ]
  },
  {
   "cell_type": "markdown",
   "metadata": {},
   "source": [
    "#### b)  Feature : 30Days_to_play"
   ]
  },
  {
   "cell_type": "code",
   "execution_count": null,
   "metadata": {},
   "outputs": [],
   "source": [
    "# BOOL Markers\n",
    "\n",
    "#Player had enough days to become payer\n",
    "DataBase_last_day = df['started_at'].max()\n",
    "\n",
    "valid_users_30days = df.with_columns(\n",
    "    pl.when(pl.col(\"started_at\") < DataBase_last_day - pl.duration(days=30))\n",
    "    .then(1)\n",
    "    .otherwise(0)\n",
    "    .alias(\"had_30Days_to_play\")\n",
    ")\n",
    "\n",
    "\n",
    "valid_users_30days = valid_users_30days.with_columns(\n",
    "    pl.col(\"had_30Days_to_play\")\\\n",
    "        .max()\\\n",
    "        .over(\"user_id\").alias(\"had_30Days_to_play\")\n",
    ")\n",
    "\n",
    "valid_users_30days.head(2)"
   ]
  },
  {
   "cell_type": "markdown",
   "metadata": {},
   "source": [
    "#### c) Dummies variables\n",
    "\n",
    "We want to have a table for each user where we mark if it has ever been in a specific game_id, match_type and entry_credit_type.\n",
    "\n",
    "Columns : \"game_id\",\"match_type\",\"entry_credit_type\"\n",
    "\n",
    "**Output:** dummies_summarized (table)"
   ]
  },
  {
   "cell_type": "code",
   "execution_count": null,
   "metadata": {},
   "outputs": [],
   "source": [
    "\n",
    "#Select dummy cols\n",
    "cols_to_dummy = [\"game_id\",\"match_type\",\"entry_credit_type\"]\n",
    "\n",
    "# Create all dummies\n",
    "all_dummies = df.to_dummies(cs.by_name(cols_to_dummy))\n",
    "\n",
    "#list of cols to keep\n",
    "cols_to_keep = ['user_id']\n",
    "for col in cols_to_dummy:\n",
    "  cols_to_keep = cols_to_keep +[ col+\"_\"+dummy_col for dummy_col in df[col].unique().to_list()]\n",
    "\n",
    "\n",
    "#keep only necessary\n",
    "all_dummies = all_dummies[cols_to_keep]\n",
    "\n",
    "# Ensure all dummies are present\n",
    "assert len( df['game_id'].unique().to_list() + df['match_type'].unique().to_list() + df['entry_credit_type'].unique().to_list() + ['user_id']) == len(all_dummies.columns)\n",
    "\n",
    "\n",
    "#create base table for summarizing dummies (this will)\n",
    "dummies_summarized = all_dummies.select([\"user_id\"]).unique()\n",
    "\n",
    "for col in list(set(cols_to_keep) - set(['user_id'])):\n",
    "  result = all_dummies.group_by(\"user_id\")\\\n",
    "    .agg(\\\n",
    "       pl.col(col).max().alias(\"has_done_\"+col)\n",
    "       )\n",
    "  dummies_summarized = dummies_summarized.join(result, on=\"user_id\", how=\"left\")\n",
    "\n",
    "\n",
    "# Ensure no duplicates\n",
    "assert dummies_summarized.filter(dummies_summarized['user_id'].is_duplicated()).shape[0] == 0\n",
    "\n",
    "dummies_summarized.head(2)"
   ]
  },
  {
   "cell_type": "code",
   "execution_count": null,
   "metadata": {},
   "outputs": [],
   "source": [
    "# ## Test  >>> OK \n",
    "# m1 = df['user_id']== 'y12WV4WQ0NeIAP7uCV4ubYrGpI42'\n",
    "\n",
    "# df.filter(m1)"
   ]
  },
  {
   "cell_type": "markdown",
   "metadata": {},
   "source": [
    "#### d) Seniority (days_since_first_game) \n",
    "This could be used as filter"
   ]
  },
  {
   "cell_type": "code",
   "execution_count": null,
   "metadata": {},
   "outputs": [],
   "source": [
    "#Label Seniority (days_since_first_game)\n",
    "min_start_date =  df.group_by(['user_id']).agg(pl.col('started_at').min().alias('min_start_at'))\n",
    "base_df = df.join(min_start_date, on='user_id', how='left')\n",
    "base_df = base_df.with_columns((pl.col(\"started_at\") - pl.col(\"min_start_at\")).dt.total_days().alias(\"days_since_first_game\"))\n",
    "\n",
    "base_df.tail(2)"
   ]
  },
  {
   "cell_type": "markdown",
   "metadata": {},
   "source": [
    "#### e) User Behavior Features\n",
    " Here we add all the BEHAVIORAL features we can use."
   ]
  },
  {
   "cell_type": "code",
   "execution_count": null,
   "metadata": {},
   "outputs": [],
   "source": [
    "# Label games completed\n",
    "\n",
    "base_df = base_df.with_columns(\n",
    "    pl.when(pl.col(\"seconds_until_result\") > 0)\n",
    "      .then(1)\n",
    "      .otherwise(0)\n",
    "      .alias(\"game_is_completed\"))\n",
    "base_df.head(2)\n",
    "\n"
   ]
  },
  {
   "cell_type": "code",
   "execution_count": null,
   "metadata": {},
   "outputs": [],
   "source": [
    "# base_df = base_df.filter(base_df['days_since_first_game'] < 10)\n",
    "\n",
    "user_behavior_features = (\n",
    "    base_df.group_by(\"user_id\").agg(\n",
    "        \n",
    "        # --- Seniority ---\n",
    "        pl.col(\"days_since_first_game\").max().alias(\"seniority_in_days\"),\n",
    "\n",
    "        # --- Game Usage ---\n",
    "        pl.col(\"game_is_completed\").sum().alias(\"total_played_games\"),\n",
    "        pl.col(\"seconds_until_result\").mean().alias(\"avg_game_duration\"),\n",
    "        pl.col(\"seconds_until_result\").std().alias(\"game_duration_std\"),\n",
    "        pl.col(\"game_id\").mode().first().alias(\"most_played_game_id\"),\n",
    "        pl.col(\"match_type\").mode().first().alias(\"most_played_match_type\"),\n",
    "        # --- Spending Metrics ---\n",
    "        ## Dollars\n",
    "        pl.col(\"entry_price_dollars\").mean().alias(\"avg_entry_dollars\"), # <-- Remake\n",
    "        pl.col(\"entry_price_dollars\").sum().alias(\"total_spend_dollars\"),\n",
    "        pl.col(\"entry_price_dollars\").std().alias(\"spend_dollars_std\"), # <--- Remake\n",
    "        pl.col(\"prize_dollars\").sum().alias(\"total_prize_dollars\"),\n",
    "        \n",
    "        ## Coins\n",
    "        pl.col(\"entry_price_coins\").mean().alias(\"avg_entry_coins\"),\n",
    "        pl.col(\"entry_price_coins\").sum().alias(\"total_spend_coins\"),\n",
    "        pl.col(\"entry_price_coins\").std().alias(\"spend_coins_std\"),\n",
    "        pl.col(\"prize_coins\").sum().alias(\"total_prize_coins\"),\n",
    "\n",
    "        # --- Game Outcome ---\n",
    "        pl.len().alias(\"match_count\"),\n",
    "        pl.col(\"match_rank\").mean().alias(\"avg_rank\"),\n",
    "        pl.col(\"match_rank\").min().alias(\"best_rank\"),\n",
    "        pl.col(\"match_rank\").max().alias(\"worst_rank\"),\n",
    "\n",
    "        # --- Time Patterns ---\n",
    "        pl.col(\"started_at\").dt.hour().mode().first().alias(\"most_played_hour\"),\n",
    "        (pl.col(\"started_at\").dt.hour().is_between(0, 5)).mean().alias(\"night_matches\"),\n",
    "        (pl.col(\"started_at\").dt.hour().is_between(6, 11)).mean().alias(\"morning_matches\"),\n",
    "        (pl.col(\"started_at\").dt.hour().is_between(12, 17)).mean().alias(\"afternoon_matches\"),\n",
    "        (pl.col(\"started_at\").dt.hour().is_between(18, 23)).mean().alias(\"evening_matches\"),\n",
    "        pl.col(\"started_at\").dt.weekday().mode().first().alias(\"most_played_weekday\"),\n",
    "        (pl.col(\"started_at\").dt.weekday().is_in([0, 1, 2, 3, 4])).mean().alias(\"weekday_user\"),\n",
    "        (pl.col(\"started_at\").dt.weekday().is_in([5, 6])).mean().alias(\"weekend_user\"),\n",
    "\n",
    "        # --- Player Metrics ---\n",
    "        pl.col(\"total_players\").mean().alias(\"avg_players_per_match\"),\n",
    "\n",
    "        # --- Win Metrics ---\n",
    "        (pl.col(\"match_rank\") == 1).sum().alias(\"first_place_count\"),\n",
    "        (pl.col(\"match_rank\") <= 3).sum().alias(\"top_three_count\"),\n",
    "        (pl.col(\"match_rank\") > 3).sum().alias(\"loss_count\"),  # Can be removed if unnecessary\n",
    "\n",
    "        # --- Game Variety Exposure ---\n",
    "        pl.col(\"match_type\").n_unique().alias(\"match_type_variety_exposure\"),\n",
    "\n",
    "        # --- Paid Matches ---\n",
    "        pl.col(\"entry_price_dollars\").filter(pl.col(\"entry_price_dollars\") > 0).count().alias(\"paid_match_count\"),\n",
    "    )\n",
    ")\n",
    "\n",
    "user_behavior_features.head(2)\n"
   ]
  },
  {
   "cell_type": "code",
   "execution_count": null,
   "metadata": {},
   "outputs": [],
   "source": [
    "base_df = df.filter(~df['entry_price_dollars'].is_null())\n",
    "avg_entry_dollars = (\n",
    "    base_df\n",
    "    .group_by(\"user_id\")\n",
    "    .agg(pl.col(\"entry_price_dollars\").mean().alias(\"avg_entry_price\"))\n",
    ")\n",
    "\n",
    "avg_entry_dollars"
   ]
  },
  {
   "cell_type": "markdown",
   "metadata": {},
   "source": [
    "#### e) Composed features (metrics)"
   ]
  },
  {
   "cell_type": "code",
   "execution_count": null,
   "metadata": {},
   "outputs": [],
   "source": [
    "user_behavior_features = user_behavior_features.with_columns([\n",
    "    # Net profit/loss\n",
    "    (pl.col(\"total_prize_dollars\") - pl.col(\"total_spend_dollars\")).alias(\"net_dollar_profit\"),\n",
    "    (pl.col(\"total_prize_coins\") - pl.col(\"total_spend_coins\")).alias(\"net_coin_profit\"),\n",
    "    \n",
    "    # Performance metrics\n",
    "    (pl.col(\"first_place_count\") / pl.col(\"match_count\")).alias(\"win_rate\"),\n",
    "    (pl.col(\"top_three_count\") / pl.col(\"match_count\")).alias(\"top_three_rate\"),\n",
    "    \n",
    "    # Monetization behavior\n",
    "    (pl.col(\"paid_match_count\") / pl.col(\"match_count\")).alias(\"paid_game_ratio\"),\n",
    "    \n",
    "    #win_rate categories (low, medium, high)\n",
    "    #total spend ratio (dollars/coins)\n",
    "\n",
    "])\n",
    "\n",
    "user_behavior_features.head(2)"
   ]
  },
  {
   "cell_type": "code",
   "execution_count": null,
   "metadata": {},
   "outputs": [],
   "source": [
    "cols_to_dummy =[\"most_played_game_id\",\"most_played_match_type\"]\n",
    "\n",
    "# Create all dummies\n",
    "usr_behavior_dummies = user_behavior_features.to_dummies(cs.by_name(cols_to_dummy))\n",
    "\n",
    "#list of cols to keep\n",
    "cols_to_keep = ['user_id']\n",
    "for col in cols_to_dummy:\n",
    "  cols_to_keep = cols_to_keep +[ col+\"_\"+dummy_col for dummy_col in user_behavior_features[col].unique().to_list()]\n",
    "\n",
    "#keep only necessary\n",
    "usr_behavior_dummies = usr_behavior_dummies[cols_to_keep]\n",
    "\n",
    "# Ensure all dummies are present\n",
    "assert len(  user_behavior_features['most_played_game_id'].unique().to_list() +\\\n",
    "  user_behavior_features['most_played_match_type'].unique().to_list() +\\\n",
    "    ['user_id']) == len(usr_behavior_dummies.columns)\n",
    "\n",
    "\n",
    "#create base table for summarizing dummies (this will)\n",
    "usr_dummies_summarized = usr_behavior_dummies.select([\"user_id\"]).unique()\n",
    "\n",
    "for col in list(set(cols_to_keep) - set(['user_id'])):\n",
    "  result = usr_behavior_dummies.group_by(\"user_id\")\\\n",
    "    .agg(\\\n",
    "       pl.col(col).max().alias(col)\n",
    "       )\n",
    "  usr_dummies_summarized = usr_dummies_summarized.join(result, on=\"user_id\", how=\"left\")\n",
    "\n",
    "\n",
    "# Ensure no duplicates\n",
    "assert usr_dummies_summarized.filter(usr_dummies_summarized['user_id'].is_duplicated()).shape[0] == 0\n",
    "\n",
    "usr_dummies_summarized.head(2)"
   ]
  },
  {
   "cell_type": "markdown",
   "metadata": {},
   "source": [
    "### f) Merge Data Frames \n",
    "user_features + user_behavior_w_dummies + is_payer_table + valid_users_30days "
   ]
  },
  {
   "cell_type": "code",
   "execution_count": null,
   "metadata": {},
   "outputs": [],
   "source": [
    "first_dollar_game_number_per_user.head(2), days_since_first_game_per_user.head(2)"
   ]
  },
  {
   "cell_type": "code",
   "execution_count": null,
   "metadata": {},
   "outputs": [],
   "source": [
    "# Merge with dummies\n",
    "\n",
    "features_df_polars = user_behavior_features.join(usr_dummies_summarized, on='user_id', how='left') \n",
    "features_df_polars = features_df_polars.drop(cols_to_dummy)\n",
    "\n",
    "# features_df_polars = features_df_polars.join(is_payer_table, on=\"user_id\", how=\"left\") # this depends on given dates filter\n",
    "# features_df_polars = features_df_polars.join(valid_users_30days, on=\"user_id\", how=\"left\") # seniority will be enough\n",
    "\n",
    "\n",
    "# This tells at which game did the player used DOLLAR as entry_credit_type (NULL if has never played with dollar)\n",
    "features_df_polars = features_df_polars.join(first_dollar_game_number_per_user, on=\"user_id\", how=\"left\")\n",
    "\n",
    "#Tells days since first game until Dollar as entry_credit_type game.\n",
    "features_df_polars = features_df_polars.join(days_since_first_game_per_user, on=\"user_id\", how=\"left\")"
   ]
  },
  {
   "cell_type": "code",
   "execution_count": null,
   "metadata": {},
   "outputs": [],
   "source": [
    "features_df_polars.columns"
   ]
  },
  {
   "cell_type": "markdown",
   "metadata": {},
   "source": [
    "## g) Check output"
   ]
  },
  {
   "cell_type": "code",
   "execution_count": null,
   "metadata": {},
   "outputs": [],
   "source": [
    "# Quick look with null value check - simplified version\n",
    "cols_with_nulls = []\n",
    "for col in features_df_polars.columns:\n",
    "    # Count nulls directly\n",
    "    null_count = features_df_polars.select(pl.col(col).is_null().sum()).item()\n",
    "    has_nulls = \"Yes\" if null_count > 0 else \"No\"\n",
    "    cols_with_nulls.append(col) if null_count > 0 else None\n",
    "    \n",
    "    # Show a few sample values without counting unique values\n",
    "    try:\n",
    "        sample_values = features_df_polars.select(pl.col(col)).head(5).to_series().to_list()\n",
    "    except:\n",
    "        sample_values = [\"Error getting samples\"]\n",
    "    \n",
    "    print(\n",
    "        f\"{col} {'_' * (30 - len(col))} : nulls=> {has_nulls} ({null_count}) | \"\n",
    "        f\"sample values: {sample_values}\"\n",
    "    )\n",
    "print(f\"Columns with missing values: {cols_with_nulls}\")"
   ]
  },
  {
   "cell_type": "code",
   "execution_count": null,
   "metadata": {},
   "outputs": [],
   "source": [
    "features_df = features_df_polars.to_pandas()"
   ]
  },
  {
   "cell_type": "code",
   "execution_count": null,
   "metadata": {},
   "outputs": [],
   "source": [
    "features_df.columns.to_list()"
   ]
  },
  {
   "cell_type": "code",
   "execution_count": null,
   "metadata": {},
   "outputs": [],
   "source": [
    "[x for x in features_df.columns.to_list() if x.__contains__(\"most_played\")]"
   ]
  },
  {
   "cell_type": "code",
   "execution_count": null,
   "metadata": {},
   "outputs": [],
   "source": [
    "features_df.info()"
   ]
  },
  {
   "cell_type": "code",
   "execution_count": null,
   "metadata": {},
   "outputs": [],
   "source": [
    "drop_col_features = [\n",
    "  # irrelevant\n",
    "  'user_id',\n",
    "  # drop first element in category\n",
    "  # 'afternoon_matches',\n",
    "  # 'weekday_user',\n",
    "  # 'most_played_game_id_Golf',\n",
    "  # 'most_played_match_type_ONE_VS_ONE'  \n",
    "  ]\n",
    "\n",
    "features_df_dropped = features_df.drop(columns=drop_col_features)\n",
    "features_df.head(2)"
   ]
  },
  {
   "cell_type": "markdown",
   "metadata": {},
   "source": [
    "### Missing Values"
   ]
  },
  {
   "cell_type": "code",
   "execution_count": null,
   "metadata": {},
   "outputs": [],
   "source": [
    "plt.figure(figsize=(10, 4))\n",
    "sns.heatmap(features_df_dropped.isnull(), cbar=False, cmap='viridis')\n"
   ]
  },
  {
   "cell_type": "code",
   "execution_count": null,
   "metadata": {},
   "outputs": [],
   "source": [
    "missing_val_cols = features_df_dropped.columns[features_df_dropped.isnull().any()].to_list()\n",
    "missing_val_cols"
   ]
  },
  {
   "cell_type": "code",
   "execution_count": null,
   "metadata": {},
   "outputs": [],
   "source": [
    "for col in missing_val_cols:\n",
    "  print(col, \" => min = \",features_df_dropped[col].min())"
   ]
  },
  {
   "cell_type": "code",
   "execution_count": null,
   "metadata": {},
   "outputs": [],
   "source": [
    "fill_value = {\n",
    "  'game_duration_std': 0,\n",
    " 'avg_entry_dollars': 0,\n",
    " 'spend_dollars_std': 0,\n",
    " 'avg_entry_coins': 0,\n",
    " 'spend_coins_std': 0,\n",
    " 'first_dollar_game_number': 10000,\n",
    " 'days_since_first_game': 10000 \n",
    "}"
   ]
  },
  {
   "cell_type": "code",
   "execution_count": null,
   "metadata": {},
   "outputs": [],
   "source": [
    "# will fill in preprocessing\n",
    "#features_df_dropped_filled = features_df_dropped.fillna(value=fill_value)"
   ]
  },
  {
   "cell_type": "code",
   "execution_count": null,
   "metadata": {},
   "outputs": [],
   "source": [
    "# Check Point : save to parquet\n",
    "features_df_dropped.to_parquet(\"X.parquet\")"
   ]
  },
  {
   "cell_type": "markdown",
   "metadata": {},
   "source": [
    "# ---- Start ML PIPELINE ----"
   ]
  },
  {
   "cell_type": "code",
   "execution_count": 1,
   "metadata": {},
   "outputs": [],
   "source": [
    "# Base libraries\n",
    "import numpy as np\n",
    "import pandas as pd\n",
    "import matplotlib.pyplot as plt\n",
    "\n",
    "# Pre processing\n",
    "from sklearn.pipeline import Pipeline\n",
    "from sklearn.compose import ColumnTransformer\n",
    "from sklearn.impute import SimpleImputer\n",
    "from sklearn.preprocessing import StandardScaler, OneHotEncoder\n",
    "\n",
    "\n",
    "# Models\n",
    "from sklearn.cluster import DBSCAN, KMeans, AgglomerativeClustering\n",
    "from sklearn.neighbors import NearestNeighbors\n",
    "\n",
    "# pipeline\n",
    "import optuna\n",
    "from sklearn.model_selection import cross_val_score, LeaveOneOut, RandomizedSearchCV\n",
    "from sklearn.model_selection import GridSearchCV \n",
    "\n",
    "# Metrics, viz\n",
    "from utils import dbscan_scorer # (custome score)\n",
    "import umap\n",
    "from scipy.cluster.hierarchy import dendrogram, linkage\n",
    "from sklearn.metrics import silhouette_score, adjusted_rand_score\n",
    "from sklearn.decomposition import PCA\n",
    "from sklearn.manifold import TSNE\n"
   ]
  },
  {
   "cell_type": "code",
   "execution_count": 2,
   "metadata": {},
   "outputs": [],
   "source": [
    "# Load\n",
    "df = pd.read_parquet(\"X.parquet\")"
   ]
  },
  {
   "cell_type": "code",
   "execution_count": 3,
   "metadata": {},
   "outputs": [
    {
     "name": "stdout",
     "output_type": "stream",
     "text": [
      "<class 'pandas.core.frame.DataFrame'>\n",
      "RangeIndex: 158009 entries, 0 to 158008\n",
      "Data columns (total 57 columns):\n",
      " #   Column                                 Non-Null Count   Dtype  \n",
      "---  ------                                 --------------   -----  \n",
      " 0   seniority_in_days                      158009 non-null  int64  \n",
      " 1   total_played_games                     158009 non-null  int32  \n",
      " 2   avg_game_duration                      158009 non-null  float64\n",
      " 3   game_duration_std                      139355 non-null  float64\n",
      " 4   avg_entry_dollars                      94782 non-null   float64\n",
      " 5   total_spend_dollars                    158009 non-null  float64\n",
      " 6   spend_dollars_std                      82954 non-null   float64\n",
      " 7   total_prize_dollars                    158009 non-null  float64\n",
      " 8   avg_entry_coins                        153354 non-null  float64\n",
      " 9   total_spend_coins                      158009 non-null  int64  \n",
      " 10  spend_coins_std                        131688 non-null  float64\n",
      " 11  total_prize_coins                      158009 non-null  int32  \n",
      " 12  match_count                            158009 non-null  uint32 \n",
      " 13  avg_rank                               158009 non-null  float64\n",
      " 14  best_rank                              158009 non-null  int64  \n",
      " 15  worst_rank                             158009 non-null  int64  \n",
      " 16  most_played_hour                       158009 non-null  int8   \n",
      " 17  night_matches                          158009 non-null  float64\n",
      " 18  morning_matches                        158009 non-null  float64\n",
      " 19  afternoon_matches                      158009 non-null  float64\n",
      " 20  evening_matches                        158009 non-null  float64\n",
      " 21  most_played_weekday                    158009 non-null  int8   \n",
      " 22  weekday_user                           158009 non-null  float64\n",
      " 23  weekend_user                           158009 non-null  float64\n",
      " 24  avg_players_per_match                  158009 non-null  float64\n",
      " 25  first_place_count                      158009 non-null  uint32 \n",
      " 26  top_three_count                        158009 non-null  uint32 \n",
      " 27  loss_count                             158009 non-null  uint32 \n",
      " 28  match_type_variety_exposure            158009 non-null  uint32 \n",
      " 29  paid_match_count                       158009 non-null  uint32 \n",
      " 30  net_dollar_profit                      158009 non-null  float64\n",
      " 31  net_coin_profit                        158009 non-null  int64  \n",
      " 32  win_rate                               158009 non-null  float64\n",
      " 33  top_three_rate                         158009 non-null  float64\n",
      " 34  paid_game_ratio                        158009 non-null  float64\n",
      " 35  most_played_game_id_PokerBlast         158009 non-null  uint8  \n",
      " 36  most_played_match_type_SPIN_AND_GO     158009 non-null  uint8  \n",
      " 37  most_played_game_id_WheelOfFortune     158009 non-null  uint8  \n",
      " 38  most_played_game_id_BallBlast          158009 non-null  uint8  \n",
      " 39  most_played_game_id_FindObjects        158009 non-null  uint8  \n",
      " 40  most_played_match_type_ONE_VS_ONE      158009 non-null  uint8  \n",
      " 41  most_played_game_id_Domino             158009 non-null  uint8  \n",
      " 42  most_played_game_id_Match3             158009 non-null  uint8  \n",
      " 43  most_played_game_id_Pool               158009 non-null  uint8  \n",
      " 44  most_played_game_id_TripeaksSolitaire  158009 non-null  uint8  \n",
      " 45  most_played_game_id_Golf               158009 non-null  uint8  \n",
      " 46  most_played_game_id_21Blitz            158009 non-null  uint8  \n",
      " 47  most_played_game_id_KlondikeSolitaire  158009 non-null  uint8  \n",
      " 48  most_played_match_type_BRAWL           158009 non-null  uint8  \n",
      " 49  most_played_game_id_Yatzy              158009 non-null  uint8  \n",
      " 50  most_played_game_id_GridBlocks         158009 non-null  uint8  \n",
      " 51  most_played_game_id_TileMatch          158009 non-null  uint8  \n",
      " 52  most_played_game_id_Bingo              158009 non-null  uint8  \n",
      " 53  most_played_game_id_GinRummy           158009 non-null  uint8  \n",
      " 54  most_played_game_id_BubbleShooter      158009 non-null  uint8  \n",
      " 55  first_dollar_game_number               94782 non-null   float64\n",
      " 56  days_since_first_game                  94782 non-null   float64\n",
      "dtypes: float64(22), int32(2), int64(5), int8(2), uint32(6), uint8(20)\n",
      "memory usage: 40.7 MB\n"
     ]
    }
   ],
   "source": [
    "df.info()"
   ]
  },
  {
   "cell_type": "code",
   "execution_count": 4,
   "metadata": {},
   "outputs": [
    {
     "data": {
      "text/html": [
       "<div>\n",
       "<style scoped>\n",
       "    .dataframe tbody tr th:only-of-type {\n",
       "        vertical-align: middle;\n",
       "    }\n",
       "\n",
       "    .dataframe tbody tr th {\n",
       "        vertical-align: top;\n",
       "    }\n",
       "\n",
       "    .dataframe thead th {\n",
       "        text-align: right;\n",
       "    }\n",
       "</style>\n",
       "<table border=\"1\" class=\"dataframe\">\n",
       "  <thead>\n",
       "    <tr style=\"text-align: right;\">\n",
       "      <th></th>\n",
       "      <th>count</th>\n",
       "      <th>mean</th>\n",
       "      <th>std</th>\n",
       "      <th>min</th>\n",
       "      <th>25%</th>\n",
       "      <th>50%</th>\n",
       "      <th>75%</th>\n",
       "      <th>max</th>\n",
       "    </tr>\n",
       "  </thead>\n",
       "  <tbody>\n",
       "    <tr>\n",
       "      <th>seniority_in_days</th>\n",
       "      <td>158009.0</td>\n",
       "      <td>11.158997</td>\n",
       "      <td>11.839562</td>\n",
       "      <td>0.0</td>\n",
       "      <td>0.000000</td>\n",
       "      <td>6.000000</td>\n",
       "      <td>24.000000</td>\n",
       "      <td>30.000000</td>\n",
       "    </tr>\n",
       "    <tr>\n",
       "      <th>total_played_games</th>\n",
       "      <td>158009.0</td>\n",
       "      <td>95.393592</td>\n",
       "      <td>227.733900</td>\n",
       "      <td>1.0</td>\n",
       "      <td>4.000000</td>\n",
       "      <td>15.000000</td>\n",
       "      <td>78.000000</td>\n",
       "      <td>5679.000000</td>\n",
       "    </tr>\n",
       "    <tr>\n",
       "      <th>avg_game_duration</th>\n",
       "      <td>158009.0</td>\n",
       "      <td>1033.761713</td>\n",
       "      <td>2142.486921</td>\n",
       "      <td>7.0</td>\n",
       "      <td>358.600000</td>\n",
       "      <td>576.657895</td>\n",
       "      <td>969.722751</td>\n",
       "      <td>105280.000000</td>\n",
       "    </tr>\n",
       "    <tr>\n",
       "      <th>game_duration_std</th>\n",
       "      <td>139355.0</td>\n",
       "      <td>1787.240898</td>\n",
       "      <td>3447.653322</td>\n",
       "      <td>0.0</td>\n",
       "      <td>442.992820</td>\n",
       "      <td>956.062251</td>\n",
       "      <td>1638.591637</td>\n",
       "      <td>120689.692520</td>\n",
       "    </tr>\n",
       "    <tr>\n",
       "      <th>avg_entry_dollars</th>\n",
       "      <td>94782.0</td>\n",
       "      <td>1.546178</td>\n",
       "      <td>2.034863</td>\n",
       "      <td>0.2</td>\n",
       "      <td>0.814815</td>\n",
       "      <td>1.000000</td>\n",
       "      <td>1.576000</td>\n",
       "      <td>95.163636</td>\n",
       "    </tr>\n",
       "    <tr>\n",
       "      <th>total_spend_dollars</th>\n",
       "      <td>158009.0</td>\n",
       "      <td>77.441952</td>\n",
       "      <td>934.115158</td>\n",
       "      <td>0.0</td>\n",
       "      <td>0.000000</td>\n",
       "      <td>1.800000</td>\n",
       "      <td>18.200000</td>\n",
       "      <td>141200.000000</td>\n",
       "    </tr>\n",
       "    <tr>\n",
       "      <th>spend_dollars_std</th>\n",
       "      <td>82954.0</td>\n",
       "      <td>0.982262</td>\n",
       "      <td>1.702943</td>\n",
       "      <td>0.0</td>\n",
       "      <td>0.200000</td>\n",
       "      <td>0.467862</td>\n",
       "      <td>1.176856</td>\n",
       "      <td>60.864580</td>\n",
       "    </tr>\n",
       "    <tr>\n",
       "      <th>total_prize_dollars</th>\n",
       "      <td>158009.0</td>\n",
       "      <td>58.766828</td>\n",
       "      <td>796.471791</td>\n",
       "      <td>0.0</td>\n",
       "      <td>0.000000</td>\n",
       "      <td>0.500000</td>\n",
       "      <td>10.200000</td>\n",
       "      <td>134958.800000</td>\n",
       "    </tr>\n",
       "    <tr>\n",
       "      <th>avg_entry_coins</th>\n",
       "      <td>153354.0</td>\n",
       "      <td>256.284003</td>\n",
       "      <td>287.806726</td>\n",
       "      <td>15.0</td>\n",
       "      <td>60.215054</td>\n",
       "      <td>122.562539</td>\n",
       "      <td>300.000000</td>\n",
       "      <td>1000.000000</td>\n",
       "    </tr>\n",
       "    <tr>\n",
       "      <th>total_spend_coins</th>\n",
       "      <td>158009.0</td>\n",
       "      <td>6824.199634</td>\n",
       "      <td>12863.029315</td>\n",
       "      <td>0.0</td>\n",
       "      <td>1000.000000</td>\n",
       "      <td>2050.000000</td>\n",
       "      <td>7450.000000</td>\n",
       "      <td>490050.000000</td>\n",
       "    </tr>\n",
       "    <tr>\n",
       "      <th>spend_coins_std</th>\n",
       "      <td>131688.0</td>\n",
       "      <td>211.009500</td>\n",
       "      <td>179.361093</td>\n",
       "      <td>0.0</td>\n",
       "      <td>40.101878</td>\n",
       "      <td>184.344023</td>\n",
       "      <td>342.191815</td>\n",
       "      <td>692.964646</td>\n",
       "    </tr>\n",
       "    <tr>\n",
       "      <th>total_prize_coins</th>\n",
       "      <td>158009.0</td>\n",
       "      <td>3279.458322</td>\n",
       "      <td>9264.349372</td>\n",
       "      <td>0.0</td>\n",
       "      <td>0.000000</td>\n",
       "      <td>250.000000</td>\n",
       "      <td>2030.000000</td>\n",
       "      <td>318330.000000</td>\n",
       "    </tr>\n",
       "    <tr>\n",
       "      <th>match_count</th>\n",
       "      <td>158009.0</td>\n",
       "      <td>95.393592</td>\n",
       "      <td>227.733900</td>\n",
       "      <td>1.0</td>\n",
       "      <td>4.000000</td>\n",
       "      <td>15.000000</td>\n",
       "      <td>78.000000</td>\n",
       "      <td>5679.000000</td>\n",
       "    </tr>\n",
       "    <tr>\n",
       "      <th>avg_rank</th>\n",
       "      <td>158009.0</td>\n",
       "      <td>3.684672</td>\n",
       "      <td>1.335370</td>\n",
       "      <td>1.0</td>\n",
       "      <td>2.960305</td>\n",
       "      <td>3.310185</td>\n",
       "      <td>4.000000</td>\n",
       "      <td>10.000000</td>\n",
       "    </tr>\n",
       "    <tr>\n",
       "      <th>best_rank</th>\n",
       "      <td>158009.0</td>\n",
       "      <td>1.936972</td>\n",
       "      <td>1.741865</td>\n",
       "      <td>1.0</td>\n",
       "      <td>1.000000</td>\n",
       "      <td>1.000000</td>\n",
       "      <td>2.000000</td>\n",
       "      <td>10.000000</td>\n",
       "    </tr>\n",
       "    <tr>\n",
       "      <th>worst_rank</th>\n",
       "      <td>158009.0</td>\n",
       "      <td>6.611370</td>\n",
       "      <td>2.314861</td>\n",
       "      <td>1.0</td>\n",
       "      <td>5.000000</td>\n",
       "      <td>6.000000</td>\n",
       "      <td>9.000000</td>\n",
       "      <td>10.000000</td>\n",
       "    </tr>\n",
       "    <tr>\n",
       "      <th>most_played_hour</th>\n",
       "      <td>158009.0</td>\n",
       "      <td>13.589789</td>\n",
       "      <td>6.666401</td>\n",
       "      <td>0.0</td>\n",
       "      <td>9.000000</td>\n",
       "      <td>15.000000</td>\n",
       "      <td>19.000000</td>\n",
       "      <td>23.000000</td>\n",
       "    </tr>\n",
       "    <tr>\n",
       "      <th>night_matches</th>\n",
       "      <td>158009.0</td>\n",
       "      <td>0.157563</td>\n",
       "      <td>0.265824</td>\n",
       "      <td>0.0</td>\n",
       "      <td>0.000000</td>\n",
       "      <td>0.000000</td>\n",
       "      <td>0.212121</td>\n",
       "      <td>1.000000</td>\n",
       "    </tr>\n",
       "    <tr>\n",
       "      <th>morning_matches</th>\n",
       "      <td>158009.0</td>\n",
       "      <td>0.217316</td>\n",
       "      <td>0.287797</td>\n",
       "      <td>0.0</td>\n",
       "      <td>0.000000</td>\n",
       "      <td>0.106509</td>\n",
       "      <td>0.325581</td>\n",
       "      <td>1.000000</td>\n",
       "    </tr>\n",
       "    <tr>\n",
       "      <th>afternoon_matches</th>\n",
       "      <td>158009.0</td>\n",
       "      <td>0.298028</td>\n",
       "      <td>0.319105</td>\n",
       "      <td>0.0</td>\n",
       "      <td>0.000000</td>\n",
       "      <td>0.222222</td>\n",
       "      <td>0.455446</td>\n",
       "      <td>1.000000</td>\n",
       "    </tr>\n",
       "    <tr>\n",
       "      <th>evening_matches</th>\n",
       "      <td>158009.0</td>\n",
       "      <td>0.327094</td>\n",
       "      <td>0.342439</td>\n",
       "      <td>0.0</td>\n",
       "      <td>0.000000</td>\n",
       "      <td>0.241379</td>\n",
       "      <td>0.530303</td>\n",
       "      <td>1.000000</td>\n",
       "    </tr>\n",
       "    <tr>\n",
       "      <th>most_played_weekday</th>\n",
       "      <td>158009.0</td>\n",
       "      <td>4.310501</td>\n",
       "      <td>2.032295</td>\n",
       "      <td>1.0</td>\n",
       "      <td>3.000000</td>\n",
       "      <td>5.000000</td>\n",
       "      <td>6.000000</td>\n",
       "      <td>7.000000</td>\n",
       "    </tr>\n",
       "    <tr>\n",
       "      <th>weekday_user</th>\n",
       "      <td>158009.0</td>\n",
       "      <td>0.512753</td>\n",
       "      <td>0.362504</td>\n",
       "      <td>0.0</td>\n",
       "      <td>0.176471</td>\n",
       "      <td>0.523810</td>\n",
       "      <td>0.849624</td>\n",
       "      <td>1.000000</td>\n",
       "    </tr>\n",
       "    <tr>\n",
       "      <th>weekend_user</th>\n",
       "      <td>158009.0</td>\n",
       "      <td>0.317414</td>\n",
       "      <td>0.332449</td>\n",
       "      <td>0.0</td>\n",
       "      <td>0.000000</td>\n",
       "      <td>0.250000</td>\n",
       "      <td>0.470588</td>\n",
       "      <td>1.000000</td>\n",
       "    </tr>\n",
       "    <tr>\n",
       "      <th>avg_players_per_match</th>\n",
       "      <td>158009.0</td>\n",
       "      <td>5.630819</td>\n",
       "      <td>1.288338</td>\n",
       "      <td>2.0</td>\n",
       "      <td>5.000000</td>\n",
       "      <td>5.144231</td>\n",
       "      <td>5.652174</td>\n",
       "      <td>10.000000</td>\n",
       "    </tr>\n",
       "    <tr>\n",
       "      <th>first_place_count</th>\n",
       "      <td>158009.0</td>\n",
       "      <td>19.299989</td>\n",
       "      <td>50.268324</td>\n",
       "      <td>0.0</td>\n",
       "      <td>0.000000</td>\n",
       "      <td>2.000000</td>\n",
       "      <td>14.000000</td>\n",
       "      <td>1405.000000</td>\n",
       "    </tr>\n",
       "    <tr>\n",
       "      <th>top_three_count</th>\n",
       "      <td>158009.0</td>\n",
       "      <td>57.556595</td>\n",
       "      <td>143.875210</td>\n",
       "      <td>0.0</td>\n",
       "      <td>1.000000</td>\n",
       "      <td>7.000000</td>\n",
       "      <td>44.000000</td>\n",
       "      <td>3614.000000</td>\n",
       "    </tr>\n",
       "    <tr>\n",
       "      <th>loss_count</th>\n",
       "      <td>158009.0</td>\n",
       "      <td>37.836997</td>\n",
       "      <td>84.968567</td>\n",
       "      <td>0.0</td>\n",
       "      <td>2.000000</td>\n",
       "      <td>8.000000</td>\n",
       "      <td>34.000000</td>\n",
       "      <td>2351.000000</td>\n",
       "    </tr>\n",
       "    <tr>\n",
       "      <th>match_type_variety_exposure</th>\n",
       "      <td>158009.0</td>\n",
       "      <td>1.072179</td>\n",
       "      <td>0.286568</td>\n",
       "      <td>1.0</td>\n",
       "      <td>1.000000</td>\n",
       "      <td>1.000000</td>\n",
       "      <td>1.000000</td>\n",
       "      <td>3.000000</td>\n",
       "    </tr>\n",
       "    <tr>\n",
       "      <th>paid_match_count</th>\n",
       "      <td>158009.0</td>\n",
       "      <td>26.675544</td>\n",
       "      <td>107.859271</td>\n",
       "      <td>0.0</td>\n",
       "      <td>0.000000</td>\n",
       "      <td>2.000000</td>\n",
       "      <td>14.000000</td>\n",
       "      <td>4089.000000</td>\n",
       "    </tr>\n",
       "    <tr>\n",
       "      <th>net_dollar_profit</th>\n",
       "      <td>158009.0</td>\n",
       "      <td>-18.675125</td>\n",
       "      <td>165.908201</td>\n",
       "      <td>-16961.0</td>\n",
       "      <td>-6.500000</td>\n",
       "      <td>-0.700000</td>\n",
       "      <td>0.000000</td>\n",
       "      <td>556.100000</td>\n",
       "    </tr>\n",
       "    <tr>\n",
       "      <th>net_coin_profit</th>\n",
       "      <td>158009.0</td>\n",
       "      <td>-3544.741312</td>\n",
       "      <td>6092.364762</td>\n",
       "      <td>-489930.0</td>\n",
       "      <td>-4730.000000</td>\n",
       "      <td>-1410.000000</td>\n",
       "      <td>-450.000000</td>\n",
       "      <td>38470.000000</td>\n",
       "    </tr>\n",
       "    <tr>\n",
       "      <th>win_rate</th>\n",
       "      <td>158009.0</td>\n",
       "      <td>0.144297</td>\n",
       "      <td>0.155123</td>\n",
       "      <td>0.0</td>\n",
       "      <td>0.000000</td>\n",
       "      <td>0.142857</td>\n",
       "      <td>0.216495</td>\n",
       "      <td>1.000000</td>\n",
       "    </tr>\n",
       "    <tr>\n",
       "      <th>top_three_rate</th>\n",
       "      <td>158009.0</td>\n",
       "      <td>0.471427</td>\n",
       "      <td>0.267859</td>\n",
       "      <td>0.0</td>\n",
       "      <td>0.333333</td>\n",
       "      <td>0.528986</td>\n",
       "      <td>0.633333</td>\n",
       "      <td>1.000000</td>\n",
       "    </tr>\n",
       "    <tr>\n",
       "      <th>paid_game_ratio</th>\n",
       "      <td>158009.0</td>\n",
       "      <td>0.248855</td>\n",
       "      <td>0.327141</td>\n",
       "      <td>0.0</td>\n",
       "      <td>0.000000</td>\n",
       "      <td>0.071429</td>\n",
       "      <td>0.444444</td>\n",
       "      <td>1.000000</td>\n",
       "    </tr>\n",
       "    <tr>\n",
       "      <th>most_played_game_id_PokerBlast</th>\n",
       "      <td>158009.0</td>\n",
       "      <td>0.010398</td>\n",
       "      <td>0.101440</td>\n",
       "      <td>0.0</td>\n",
       "      <td>0.000000</td>\n",
       "      <td>0.000000</td>\n",
       "      <td>0.000000</td>\n",
       "      <td>1.000000</td>\n",
       "    </tr>\n",
       "    <tr>\n",
       "      <th>most_played_match_type_SPIN_AND_GO</th>\n",
       "      <td>158009.0</td>\n",
       "      <td>0.000291</td>\n",
       "      <td>0.017060</td>\n",
       "      <td>0.0</td>\n",
       "      <td>0.000000</td>\n",
       "      <td>0.000000</td>\n",
       "      <td>0.000000</td>\n",
       "      <td>1.000000</td>\n",
       "    </tr>\n",
       "    <tr>\n",
       "      <th>most_played_game_id_WheelOfFortune</th>\n",
       "      <td>158009.0</td>\n",
       "      <td>0.032061</td>\n",
       "      <td>0.176164</td>\n",
       "      <td>0.0</td>\n",
       "      <td>0.000000</td>\n",
       "      <td>0.000000</td>\n",
       "      <td>0.000000</td>\n",
       "      <td>1.000000</td>\n",
       "    </tr>\n",
       "    <tr>\n",
       "      <th>most_played_game_id_BallBlast</th>\n",
       "      <td>158009.0</td>\n",
       "      <td>0.037859</td>\n",
       "      <td>0.190855</td>\n",
       "      <td>0.0</td>\n",
       "      <td>0.000000</td>\n",
       "      <td>0.000000</td>\n",
       "      <td>0.000000</td>\n",
       "      <td>1.000000</td>\n",
       "    </tr>\n",
       "    <tr>\n",
       "      <th>most_played_game_id_FindObjects</th>\n",
       "      <td>158009.0</td>\n",
       "      <td>0.000006</td>\n",
       "      <td>0.002516</td>\n",
       "      <td>0.0</td>\n",
       "      <td>0.000000</td>\n",
       "      <td>0.000000</td>\n",
       "      <td>0.000000</td>\n",
       "      <td>1.000000</td>\n",
       "    </tr>\n",
       "    <tr>\n",
       "      <th>most_played_match_type_ONE_VS_ONE</th>\n",
       "      <td>158009.0</td>\n",
       "      <td>0.011246</td>\n",
       "      <td>0.105450</td>\n",
       "      <td>0.0</td>\n",
       "      <td>0.000000</td>\n",
       "      <td>0.000000</td>\n",
       "      <td>0.000000</td>\n",
       "      <td>1.000000</td>\n",
       "    </tr>\n",
       "    <tr>\n",
       "      <th>most_played_game_id_Domino</th>\n",
       "      <td>158009.0</td>\n",
       "      <td>0.016062</td>\n",
       "      <td>0.125716</td>\n",
       "      <td>0.0</td>\n",
       "      <td>0.000000</td>\n",
       "      <td>0.000000</td>\n",
       "      <td>0.000000</td>\n",
       "      <td>1.000000</td>\n",
       "    </tr>\n",
       "    <tr>\n",
       "      <th>most_played_game_id_Match3</th>\n",
       "      <td>158009.0</td>\n",
       "      <td>0.095052</td>\n",
       "      <td>0.293287</td>\n",
       "      <td>0.0</td>\n",
       "      <td>0.000000</td>\n",
       "      <td>0.000000</td>\n",
       "      <td>0.000000</td>\n",
       "      <td>1.000000</td>\n",
       "    </tr>\n",
       "    <tr>\n",
       "      <th>most_played_game_id_Pool</th>\n",
       "      <td>158009.0</td>\n",
       "      <td>0.090590</td>\n",
       "      <td>0.287026</td>\n",
       "      <td>0.0</td>\n",
       "      <td>0.000000</td>\n",
       "      <td>0.000000</td>\n",
       "      <td>0.000000</td>\n",
       "      <td>1.000000</td>\n",
       "    </tr>\n",
       "    <tr>\n",
       "      <th>most_played_game_id_TripeaksSolitaire</th>\n",
       "      <td>158009.0</td>\n",
       "      <td>0.014721</td>\n",
       "      <td>0.120433</td>\n",
       "      <td>0.0</td>\n",
       "      <td>0.000000</td>\n",
       "      <td>0.000000</td>\n",
       "      <td>0.000000</td>\n",
       "      <td>1.000000</td>\n",
       "    </tr>\n",
       "    <tr>\n",
       "      <th>most_played_game_id_Golf</th>\n",
       "      <td>158009.0</td>\n",
       "      <td>0.009512</td>\n",
       "      <td>0.097065</td>\n",
       "      <td>0.0</td>\n",
       "      <td>0.000000</td>\n",
       "      <td>0.000000</td>\n",
       "      <td>0.000000</td>\n",
       "      <td>1.000000</td>\n",
       "    </tr>\n",
       "    <tr>\n",
       "      <th>most_played_game_id_21Blitz</th>\n",
       "      <td>158009.0</td>\n",
       "      <td>0.047763</td>\n",
       "      <td>0.213265</td>\n",
       "      <td>0.0</td>\n",
       "      <td>0.000000</td>\n",
       "      <td>0.000000</td>\n",
       "      <td>0.000000</td>\n",
       "      <td>1.000000</td>\n",
       "    </tr>\n",
       "    <tr>\n",
       "      <th>most_played_game_id_KlondikeSolitaire</th>\n",
       "      <td>158009.0</td>\n",
       "      <td>0.218171</td>\n",
       "      <td>0.413006</td>\n",
       "      <td>0.0</td>\n",
       "      <td>0.000000</td>\n",
       "      <td>0.000000</td>\n",
       "      <td>0.000000</td>\n",
       "      <td>1.000000</td>\n",
       "    </tr>\n",
       "    <tr>\n",
       "      <th>most_played_match_type_BRAWL</th>\n",
       "      <td>158009.0</td>\n",
       "      <td>0.988463</td>\n",
       "      <td>0.106791</td>\n",
       "      <td>0.0</td>\n",
       "      <td>1.000000</td>\n",
       "      <td>1.000000</td>\n",
       "      <td>1.000000</td>\n",
       "      <td>1.000000</td>\n",
       "    </tr>\n",
       "    <tr>\n",
       "      <th>most_played_game_id_Yatzy</th>\n",
       "      <td>158009.0</td>\n",
       "      <td>0.020068</td>\n",
       "      <td>0.140235</td>\n",
       "      <td>0.0</td>\n",
       "      <td>0.000000</td>\n",
       "      <td>0.000000</td>\n",
       "      <td>0.000000</td>\n",
       "      <td>1.000000</td>\n",
       "    </tr>\n",
       "    <tr>\n",
       "      <th>most_played_game_id_GridBlocks</th>\n",
       "      <td>158009.0</td>\n",
       "      <td>0.080413</td>\n",
       "      <td>0.271933</td>\n",
       "      <td>0.0</td>\n",
       "      <td>0.000000</td>\n",
       "      <td>0.000000</td>\n",
       "      <td>0.000000</td>\n",
       "      <td>1.000000</td>\n",
       "    </tr>\n",
       "    <tr>\n",
       "      <th>most_played_game_id_TileMatch</th>\n",
       "      <td>158009.0</td>\n",
       "      <td>0.000013</td>\n",
       "      <td>0.003558</td>\n",
       "      <td>0.0</td>\n",
       "      <td>0.000000</td>\n",
       "      <td>0.000000</td>\n",
       "      <td>0.000000</td>\n",
       "      <td>1.000000</td>\n",
       "    </tr>\n",
       "    <tr>\n",
       "      <th>most_played_game_id_Bingo</th>\n",
       "      <td>158009.0</td>\n",
       "      <td>0.252384</td>\n",
       "      <td>0.434382</td>\n",
       "      <td>0.0</td>\n",
       "      <td>0.000000</td>\n",
       "      <td>0.000000</td>\n",
       "      <td>1.000000</td>\n",
       "      <td>1.000000</td>\n",
       "    </tr>\n",
       "    <tr>\n",
       "      <th>most_played_game_id_GinRummy</th>\n",
       "      <td>158009.0</td>\n",
       "      <td>0.013892</td>\n",
       "      <td>0.117042</td>\n",
       "      <td>0.0</td>\n",
       "      <td>0.000000</td>\n",
       "      <td>0.000000</td>\n",
       "      <td>0.000000</td>\n",
       "      <td>1.000000</td>\n",
       "    </tr>\n",
       "    <tr>\n",
       "      <th>most_played_game_id_BubbleShooter</th>\n",
       "      <td>158009.0</td>\n",
       "      <td>0.061034</td>\n",
       "      <td>0.239394</td>\n",
       "      <td>0.0</td>\n",
       "      <td>0.000000</td>\n",
       "      <td>0.000000</td>\n",
       "      <td>0.000000</td>\n",
       "      <td>1.000000</td>\n",
       "    </tr>\n",
       "    <tr>\n",
       "      <th>first_dollar_game_number</th>\n",
       "      <td>94782.0</td>\n",
       "      <td>14.798812</td>\n",
       "      <td>44.548630</td>\n",
       "      <td>1.0</td>\n",
       "      <td>1.000000</td>\n",
       "      <td>3.000000</td>\n",
       "      <td>11.000000</td>\n",
       "      <td>2057.000000</td>\n",
       "    </tr>\n",
       "    <tr>\n",
       "      <th>days_since_first_game</th>\n",
       "      <td>94782.0</td>\n",
       "      <td>1.879998</td>\n",
       "      <td>4.221529</td>\n",
       "      <td>0.0</td>\n",
       "      <td>0.000000</td>\n",
       "      <td>0.000000</td>\n",
       "      <td>2.000000</td>\n",
       "      <td>30.000000</td>\n",
       "    </tr>\n",
       "  </tbody>\n",
       "</table>\n",
       "</div>"
      ],
      "text/plain": [
       "                                          count         mean           std  \\\n",
       "seniority_in_days                      158009.0    11.158997     11.839562   \n",
       "total_played_games                     158009.0    95.393592    227.733900   \n",
       "avg_game_duration                      158009.0  1033.761713   2142.486921   \n",
       "game_duration_std                      139355.0  1787.240898   3447.653322   \n",
       "avg_entry_dollars                       94782.0     1.546178      2.034863   \n",
       "total_spend_dollars                    158009.0    77.441952    934.115158   \n",
       "spend_dollars_std                       82954.0     0.982262      1.702943   \n",
       "total_prize_dollars                    158009.0    58.766828    796.471791   \n",
       "avg_entry_coins                        153354.0   256.284003    287.806726   \n",
       "total_spend_coins                      158009.0  6824.199634  12863.029315   \n",
       "spend_coins_std                        131688.0   211.009500    179.361093   \n",
       "total_prize_coins                      158009.0  3279.458322   9264.349372   \n",
       "match_count                            158009.0    95.393592    227.733900   \n",
       "avg_rank                               158009.0     3.684672      1.335370   \n",
       "best_rank                              158009.0     1.936972      1.741865   \n",
       "worst_rank                             158009.0     6.611370      2.314861   \n",
       "most_played_hour                       158009.0    13.589789      6.666401   \n",
       "night_matches                          158009.0     0.157563      0.265824   \n",
       "morning_matches                        158009.0     0.217316      0.287797   \n",
       "afternoon_matches                      158009.0     0.298028      0.319105   \n",
       "evening_matches                        158009.0     0.327094      0.342439   \n",
       "most_played_weekday                    158009.0     4.310501      2.032295   \n",
       "weekday_user                           158009.0     0.512753      0.362504   \n",
       "weekend_user                           158009.0     0.317414      0.332449   \n",
       "avg_players_per_match                  158009.0     5.630819      1.288338   \n",
       "first_place_count                      158009.0    19.299989     50.268324   \n",
       "top_three_count                        158009.0    57.556595    143.875210   \n",
       "loss_count                             158009.0    37.836997     84.968567   \n",
       "match_type_variety_exposure            158009.0     1.072179      0.286568   \n",
       "paid_match_count                       158009.0    26.675544    107.859271   \n",
       "net_dollar_profit                      158009.0   -18.675125    165.908201   \n",
       "net_coin_profit                        158009.0 -3544.741312   6092.364762   \n",
       "win_rate                               158009.0     0.144297      0.155123   \n",
       "top_three_rate                         158009.0     0.471427      0.267859   \n",
       "paid_game_ratio                        158009.0     0.248855      0.327141   \n",
       "most_played_game_id_PokerBlast         158009.0     0.010398      0.101440   \n",
       "most_played_match_type_SPIN_AND_GO     158009.0     0.000291      0.017060   \n",
       "most_played_game_id_WheelOfFortune     158009.0     0.032061      0.176164   \n",
       "most_played_game_id_BallBlast          158009.0     0.037859      0.190855   \n",
       "most_played_game_id_FindObjects        158009.0     0.000006      0.002516   \n",
       "most_played_match_type_ONE_VS_ONE      158009.0     0.011246      0.105450   \n",
       "most_played_game_id_Domino             158009.0     0.016062      0.125716   \n",
       "most_played_game_id_Match3             158009.0     0.095052      0.293287   \n",
       "most_played_game_id_Pool               158009.0     0.090590      0.287026   \n",
       "most_played_game_id_TripeaksSolitaire  158009.0     0.014721      0.120433   \n",
       "most_played_game_id_Golf               158009.0     0.009512      0.097065   \n",
       "most_played_game_id_21Blitz            158009.0     0.047763      0.213265   \n",
       "most_played_game_id_KlondikeSolitaire  158009.0     0.218171      0.413006   \n",
       "most_played_match_type_BRAWL           158009.0     0.988463      0.106791   \n",
       "most_played_game_id_Yatzy              158009.0     0.020068      0.140235   \n",
       "most_played_game_id_GridBlocks         158009.0     0.080413      0.271933   \n",
       "most_played_game_id_TileMatch          158009.0     0.000013      0.003558   \n",
       "most_played_game_id_Bingo              158009.0     0.252384      0.434382   \n",
       "most_played_game_id_GinRummy           158009.0     0.013892      0.117042   \n",
       "most_played_game_id_BubbleShooter      158009.0     0.061034      0.239394   \n",
       "first_dollar_game_number                94782.0    14.798812     44.548630   \n",
       "days_since_first_game                   94782.0     1.879998      4.221529   \n",
       "\n",
       "                                            min          25%          50%  \\\n",
       "seniority_in_days                           0.0     0.000000     6.000000   \n",
       "total_played_games                          1.0     4.000000    15.000000   \n",
       "avg_game_duration                           7.0   358.600000   576.657895   \n",
       "game_duration_std                           0.0   442.992820   956.062251   \n",
       "avg_entry_dollars                           0.2     0.814815     1.000000   \n",
       "total_spend_dollars                         0.0     0.000000     1.800000   \n",
       "spend_dollars_std                           0.0     0.200000     0.467862   \n",
       "total_prize_dollars                         0.0     0.000000     0.500000   \n",
       "avg_entry_coins                            15.0    60.215054   122.562539   \n",
       "total_spend_coins                           0.0  1000.000000  2050.000000   \n",
       "spend_coins_std                             0.0    40.101878   184.344023   \n",
       "total_prize_coins                           0.0     0.000000   250.000000   \n",
       "match_count                                 1.0     4.000000    15.000000   \n",
       "avg_rank                                    1.0     2.960305     3.310185   \n",
       "best_rank                                   1.0     1.000000     1.000000   \n",
       "worst_rank                                  1.0     5.000000     6.000000   \n",
       "most_played_hour                            0.0     9.000000    15.000000   \n",
       "night_matches                               0.0     0.000000     0.000000   \n",
       "morning_matches                             0.0     0.000000     0.106509   \n",
       "afternoon_matches                           0.0     0.000000     0.222222   \n",
       "evening_matches                             0.0     0.000000     0.241379   \n",
       "most_played_weekday                         1.0     3.000000     5.000000   \n",
       "weekday_user                                0.0     0.176471     0.523810   \n",
       "weekend_user                                0.0     0.000000     0.250000   \n",
       "avg_players_per_match                       2.0     5.000000     5.144231   \n",
       "first_place_count                           0.0     0.000000     2.000000   \n",
       "top_three_count                             0.0     1.000000     7.000000   \n",
       "loss_count                                  0.0     2.000000     8.000000   \n",
       "match_type_variety_exposure                 1.0     1.000000     1.000000   \n",
       "paid_match_count                            0.0     0.000000     2.000000   \n",
       "net_dollar_profit                      -16961.0    -6.500000    -0.700000   \n",
       "net_coin_profit                       -489930.0 -4730.000000 -1410.000000   \n",
       "win_rate                                    0.0     0.000000     0.142857   \n",
       "top_three_rate                              0.0     0.333333     0.528986   \n",
       "paid_game_ratio                             0.0     0.000000     0.071429   \n",
       "most_played_game_id_PokerBlast              0.0     0.000000     0.000000   \n",
       "most_played_match_type_SPIN_AND_GO          0.0     0.000000     0.000000   \n",
       "most_played_game_id_WheelOfFortune          0.0     0.000000     0.000000   \n",
       "most_played_game_id_BallBlast               0.0     0.000000     0.000000   \n",
       "most_played_game_id_FindObjects             0.0     0.000000     0.000000   \n",
       "most_played_match_type_ONE_VS_ONE           0.0     0.000000     0.000000   \n",
       "most_played_game_id_Domino                  0.0     0.000000     0.000000   \n",
       "most_played_game_id_Match3                  0.0     0.000000     0.000000   \n",
       "most_played_game_id_Pool                    0.0     0.000000     0.000000   \n",
       "most_played_game_id_TripeaksSolitaire       0.0     0.000000     0.000000   \n",
       "most_played_game_id_Golf                    0.0     0.000000     0.000000   \n",
       "most_played_game_id_21Blitz                 0.0     0.000000     0.000000   \n",
       "most_played_game_id_KlondikeSolitaire       0.0     0.000000     0.000000   \n",
       "most_played_match_type_BRAWL                0.0     1.000000     1.000000   \n",
       "most_played_game_id_Yatzy                   0.0     0.000000     0.000000   \n",
       "most_played_game_id_GridBlocks              0.0     0.000000     0.000000   \n",
       "most_played_game_id_TileMatch               0.0     0.000000     0.000000   \n",
       "most_played_game_id_Bingo                   0.0     0.000000     0.000000   \n",
       "most_played_game_id_GinRummy                0.0     0.000000     0.000000   \n",
       "most_played_game_id_BubbleShooter           0.0     0.000000     0.000000   \n",
       "first_dollar_game_number                    1.0     1.000000     3.000000   \n",
       "days_since_first_game                       0.0     0.000000     0.000000   \n",
       "\n",
       "                                               75%            max  \n",
       "seniority_in_days                        24.000000      30.000000  \n",
       "total_played_games                       78.000000    5679.000000  \n",
       "avg_game_duration                       969.722751  105280.000000  \n",
       "game_duration_std                      1638.591637  120689.692520  \n",
       "avg_entry_dollars                         1.576000      95.163636  \n",
       "total_spend_dollars                      18.200000  141200.000000  \n",
       "spend_dollars_std                         1.176856      60.864580  \n",
       "total_prize_dollars                      10.200000  134958.800000  \n",
       "avg_entry_coins                         300.000000    1000.000000  \n",
       "total_spend_coins                      7450.000000  490050.000000  \n",
       "spend_coins_std                         342.191815     692.964646  \n",
       "total_prize_coins                      2030.000000  318330.000000  \n",
       "match_count                              78.000000    5679.000000  \n",
       "avg_rank                                  4.000000      10.000000  \n",
       "best_rank                                 2.000000      10.000000  \n",
       "worst_rank                                9.000000      10.000000  \n",
       "most_played_hour                         19.000000      23.000000  \n",
       "night_matches                             0.212121       1.000000  \n",
       "morning_matches                           0.325581       1.000000  \n",
       "afternoon_matches                         0.455446       1.000000  \n",
       "evening_matches                           0.530303       1.000000  \n",
       "most_played_weekday                       6.000000       7.000000  \n",
       "weekday_user                              0.849624       1.000000  \n",
       "weekend_user                              0.470588       1.000000  \n",
       "avg_players_per_match                     5.652174      10.000000  \n",
       "first_place_count                        14.000000    1405.000000  \n",
       "top_three_count                          44.000000    3614.000000  \n",
       "loss_count                               34.000000    2351.000000  \n",
       "match_type_variety_exposure               1.000000       3.000000  \n",
       "paid_match_count                         14.000000    4089.000000  \n",
       "net_dollar_profit                         0.000000     556.100000  \n",
       "net_coin_profit                        -450.000000   38470.000000  \n",
       "win_rate                                  0.216495       1.000000  \n",
       "top_three_rate                            0.633333       1.000000  \n",
       "paid_game_ratio                           0.444444       1.000000  \n",
       "most_played_game_id_PokerBlast            0.000000       1.000000  \n",
       "most_played_match_type_SPIN_AND_GO        0.000000       1.000000  \n",
       "most_played_game_id_WheelOfFortune        0.000000       1.000000  \n",
       "most_played_game_id_BallBlast             0.000000       1.000000  \n",
       "most_played_game_id_FindObjects           0.000000       1.000000  \n",
       "most_played_match_type_ONE_VS_ONE         0.000000       1.000000  \n",
       "most_played_game_id_Domino                0.000000       1.000000  \n",
       "most_played_game_id_Match3                0.000000       1.000000  \n",
       "most_played_game_id_Pool                  0.000000       1.000000  \n",
       "most_played_game_id_TripeaksSolitaire     0.000000       1.000000  \n",
       "most_played_game_id_Golf                  0.000000       1.000000  \n",
       "most_played_game_id_21Blitz               0.000000       1.000000  \n",
       "most_played_game_id_KlondikeSolitaire     0.000000       1.000000  \n",
       "most_played_match_type_BRAWL              1.000000       1.000000  \n",
       "most_played_game_id_Yatzy                 0.000000       1.000000  \n",
       "most_played_game_id_GridBlocks            0.000000       1.000000  \n",
       "most_played_game_id_TileMatch             0.000000       1.000000  \n",
       "most_played_game_id_Bingo                 1.000000       1.000000  \n",
       "most_played_game_id_GinRummy              0.000000       1.000000  \n",
       "most_played_game_id_BubbleShooter         0.000000       1.000000  \n",
       "first_dollar_game_number                 11.000000    2057.000000  \n",
       "days_since_first_game                     2.000000      30.000000  "
      ]
     },
     "execution_count": 4,
     "metadata": {},
     "output_type": "execute_result"
    }
   ],
   "source": [
    "df.describe().T"
   ]
  },
  {
   "cell_type": "markdown",
   "metadata": {},
   "source": [
    "# 1) Pre-Processing"
   ]
  },
  {
   "cell_type": "code",
   "execution_count": 5,
   "metadata": {},
   "outputs": [],
   "source": [
    "# Features by category\n",
    "\n",
    "numeric_features = [\n",
    "    'seniority_in_days', 'total_played_games', 'avg_game_duration', 'game_duration_std',\n",
    "    'avg_entry_dollars', 'total_spend_dollars', 'spend_dollars_std', 'total_prize_dollars',\n",
    "    'avg_entry_coins', 'total_spend_coins', 'spend_coins_std', 'total_prize_coins',\n",
    "    'match_count', 'avg_rank', 'best_rank', 'worst_rank', 'most_played_hour',\n",
    "    'night_matches', 'morning_matches', 'afternoon_matches', 'evening_matches',\n",
    "    'most_played_weekday', 'weekday_user', 'weekend_user', 'avg_players_per_match',\n",
    "    'first_place_count', 'top_three_count', 'loss_count', 'match_type_variety_exposure',\n",
    "    'paid_match_count', 'net_dollar_profit', 'net_coin_profit', 'win_rate',\n",
    "    'top_three_rate', 'paid_game_ratio'\n",
    "]\n",
    "\n",
    "categorical_features = [\n",
    "    'most_played_game_id_WheelOfFortune', 'most_played_game_id_Pool',\n",
    "    'most_played_game_id_PokerBlast', 'most_played_match_type_SPIN_AND_GO',\n",
    "    'most_played_game_id_21Blitz', 'most_played_game_id_Yatzy',\n",
    "    'most_played_game_id_Domino', 'most_played_game_id_BubbleShooter',\n",
    "    'most_played_game_id_Match3', 'most_played_game_id_Golf',\n",
    "    'most_played_game_id_GridBlocks', 'most_played_game_id_Bingo',\n",
    "    'most_played_game_id_TripeaksSolitaire', 'most_played_match_type_ONE_VS_ONE',\n",
    "    'most_played_game_id_KlondikeSolitaire', 'most_played_match_type_BRAWL',\n",
    "    'most_played_game_id_FindObjects', 'most_played_game_id_TileMatch',\n",
    "    'most_played_game_id_GinRummy', 'most_played_game_id_BallBlast'\n",
    "]\n",
    "\n",
    "# Numeric \n",
    "numeric_transformer = Pipeline(steps=[\n",
    "    ('imputer', SimpleImputer(strategy='median')),  # Median for skewness (by default is mean otherwise)\n",
    "    ('scaler', StandardScaler())                   \n",
    "])\n",
    "\n",
    "# Categorical imputer (use most frequent value)\n",
    "categorical_transformer = Pipeline(steps=[\n",
    "    ('imputer', SimpleImputer(strategy='most_frequent')),  # Fill missing cat\n",
    "    ('onehot', OneHotEncoder(handle_unknown='ignore'))     # Dummies\n",
    "])\n",
    "\n",
    "# Combine transformers using ColumnTransformer\n",
    "preprocessor = ColumnTransformer(\n",
    "    transformers=[\n",
    "        ('num', numeric_transformer, numeric_features),\n",
    "        ('cat', categorical_transformer, categorical_features)\n",
    "    ]\n",
    ")\n",
    "\n",
    "#check no col is missing\n",
    "assert len([x for x in numeric_features+categorical_features if x not in df.columns.tolist()]) == 0"
   ]
  },
  {
   "cell_type": "markdown",
   "metadata": {},
   "source": [
    "## 1) Pipeline"
   ]
  },
  {
   "cell_type": "code",
   "execution_count": 6,
   "metadata": {},
   "outputs": [],
   "source": [
    "# Pipelines\n",
    "\n",
    "dbscan_pipeline = Pipeline([('preprocessor', preprocessor), ('dbscan', DBSCAN())])\n",
    "kmeans_pipeline = Pipeline([('preprocessor', preprocessor), ('kmeans', KMeans())])\n",
    "hierarchical_pipeline = Pipeline([('preprocessor', preprocessor), ('hierarchical', AgglomerativeClustering())])"
   ]
  },
  {
   "cell_type": "markdown",
   "metadata": {},
   "source": [
    "# 2) Domain and Model definition"
   ]
  },
  {
   "cell_type": "code",
   "execution_count": 7,
   "metadata": {},
   "outputs": [],
   "source": [
    "#Using  RandomizedSearchCV\n",
    "\n",
    "# #NOTE: we are not interested in clustering 2 (paid vs not paid most likely)\n",
    "# dbscan_params = {'dbscan__eps': [0.1, 0.3, 0.5, 0.7, 1.0], 'dbscan__min_samples': [5, 10, 15, 20]}\n",
    "# kmeans_params = {'kmeans__n_clusters': [3, 4, 5]}\n",
    "# hierarchical_params = {'hierarchical__n_clusters': [ 3, 4, 5]} \n",
    "\n",
    "\n",
    "# Using Optuna\n",
    "\n",
    "# Parameter Space\n",
    "\n",
    "def dbscan_param_space(trial):\n",
    "    return {\n",
    "        'dbscan__eps': trial.suggest_float('dbscan__eps', 0.1, 10.0),\n",
    "        'dbscan__min_samples': trial.suggest_int('dbscan__min_samples', 2, 20)\n",
    "    }\n",
    "\n",
    "def kmeans_param_space(trial):\n",
    "    return {\n",
    "        'kmeans__n_clusters': trial.suggest_int('kmeans__n_clusters', 3, 10),\n",
    "        'kmeans__init': trial.suggest_categorical('kmeans__init', ['k-means++', 'random']),\n",
    "        'kmeans__max_iter': trial.suggest_int('kmeans__max_iter', 100, 500)\n",
    "    }\n",
    "\n",
    "def hierarchical_param_space(trial):\n",
    "    return {\n",
    "        'hierarchical__n_clusters': trial.suggest_int('hierarchical__n_clusters', 3, 10),\n",
    "        'hierarchical__affinity': trial.suggest_categorical('hierarchical__affinity', ['euclidean', 'l1', 'l2']),\n",
    "        'hierarchical__linkage': trial.suggest_categorical('hierarchical__linkage', ['ward', 'complete', 'average'])\n",
    "    }\n",
    "    \n",
    "    \n",
    "# Objective functions\n",
    "def dbscan_objective(trial, X, y=None):\n",
    "    params = dbscan_param_space(trial)\n",
    "    dbscan_pipeline.set_params(**params)\n",
    "    \n",
    "    try:\n",
    "        X_processed = preprocessor.fit_transform(X)\n",
    "        dbscan = dbscan_pipeline.named_steps['dbscan']\n",
    "        dbscan.set_params(**{k.replace('dbscan__', ''): v for k, v in params.items()})\n",
    "        labels = dbscan_pipeline.fit_predict(X)\n",
    "        # Base on custom scorer (from utils.py)\n",
    "        score = dbscan_scorer(dbscan_pipeline, X, labels)\n",
    "        return score\n",
    "    except Exception as e:\n",
    "            print(f\"Error in DBSCAN trial: {e}\")\n",
    "            return -1.0\n",
    "\n",
    "def kmeans_objective(trial, X, y=None):\n",
    "    params = kmeans_param_space(trial)\n",
    "    kmeans_pipeline.set_params(**params)\n",
    "    \n",
    "    try:\n",
    "        X_processed = preprocessor.fit_transform(X)\n",
    "        kmeans = kmeans_pipeline.named_steps['kmeans']\n",
    "        kmeans.set_params(**{k.replace('kmeans__', ''): v for k, v in params.items()})\n",
    "        # Base on Silhouette Score\n",
    "        labels = kmeans_pipeline.fit_predict(X)\n",
    "        score = silhouette_score(X, labels)\n",
    "        return score\n",
    "    except Exception as e:\n",
    "            print(f\"Error in KMeans trial: {e}\")\n",
    "            return -1.0\n",
    "\n",
    "def hierarchical_objective(trial, X, y=None):\n",
    "    params = hierarchical_param_space(trial)\n",
    "    hierarchical_pipeline.set_params(**params)\n",
    "    \n",
    "    try:\n",
    "        X_processed = preprocessor.fit_transform(X)\n",
    "        hierarchical = hierarchical_pipeline.named_steps['hierarchical']\n",
    "        hierarchical.set_params(**{k.replace('hierarchical__', ''): v for k, v in params.items()})\n",
    "        # Base on Silhouette Score\n",
    "        labels = hierarchical_pipeline.fit_predict(X)\n",
    "        score = silhouette_score(X, labels)\n",
    "        return score\n",
    "    except Exception as e:\n",
    "            print(f\"Error in Hierarchical trial: {e}\")\n",
    "            return -1.0\n",
    "\n",
    "\n"
   ]
  },
  {
   "cell_type": "code",
   "execution_count": 8,
   "metadata": {},
   "outputs": [],
   "source": [
    "# Models instantiation\n",
    "\n",
    "# # Using Random Search\n",
    "# dbscan_random_search = RandomizedSearchCV(\n",
    "#     dbscan_pipeline,\n",
    "#     dbscan_params,\n",
    "#     scoring=dbscan_scorer,\n",
    "#     cv=5,\n",
    "#     n_iter=10,\n",
    "#     random_state=42\n",
    "# )\n",
    "\n",
    "# # For KMeans and Hierarchical Clustering, use default scoring (Silhouette Score)\n",
    "# kmeans_random_search = RandomizedSearchCV(\n",
    "#     kmeans_pipeline,\n",
    "#     kmeans_params,\n",
    "#     scoring='silhouette_score',\n",
    "#     cv=5,\n",
    "#     n_iter=10,\n",
    "#     random_state=42\n",
    "# )\n",
    "\n",
    "# hierarchical_random_search = RandomizedSearchCV(\n",
    "#     hierarchical_pipeline,\n",
    "#     hierarchical_params,\n",
    "#     scoring='silhouette_score',\n",
    "#     cv=5,\n",
    "#     n_iter=10,\n",
    "#     random_state=42\n",
    "# )\n"
   ]
  },
  {
   "cell_type": "markdown",
   "metadata": {},
   "source": [
    "# 3) Fitting models"
   ]
  },
  {
   "cell_type": "markdown",
   "metadata": {},
   "source": [
    "> Please note that each model has its own pipeline and scaling is done internally"
   ]
  },
  {
   "cell_type": "code",
   "execution_count": 9,
   "metadata": {},
   "outputs": [],
   "source": [
    "## Useing Random Search\n",
    "# dbscan_random_search.fit(df)\n",
    "# kmeans_random_search.fit(df)\n",
    "# hierarchical_random_search.fit(df)"
   ]
  },
  {
   "cell_type": "code",
   "execution_count": 10,
   "metadata": {},
   "outputs": [],
   "source": [
    "## Using OPTUNA\n",
    "\n",
    "X = df.copy()\n",
    "\n",
    "# Optimize using Optuna\n",
    "def optimize_clustering(objective_func, X, n_trials=50):\n",
    "    study = optuna.create_study(direction='maximize')\n",
    "    study.optimize(lambda trial: objective_func(trial, X), n_trials=n_trials)\n",
    "    return study.best_params, study.best_value\n"
   ]
  },
  {
   "cell_type": "code",
   "execution_count": 11,
   "metadata": {},
   "outputs": [],
   "source": [
    "# Sample Fitting"
   ]
  },
  {
   "cell_type": "code",
   "execution_count": 12,
   "metadata": {},
   "outputs": [],
   "source": [
    "# Using SAMPLE\n",
    "sample_size = 50000  \n",
    "X_sample = X.sample(min(sample_size, len(X)), random_state=42)\n"
   ]
  },
  {
   "cell_type": "code",
   "execution_count": 13,
   "metadata": {},
   "outputs": [
    {
     "name": "stderr",
     "output_type": "stream",
     "text": [
      "[I 2025-03-28 14:19:21,749] A new study created in memory with name: no-name-4883f6a0-aa9a-415d-9009-c133ac739e59\n"
     ]
    },
    {
     "name": "stdout",
     "output_type": "stream",
     "text": [
      "Optimizing DBSCAN...\n"
     ]
    },
    {
     "name": "stderr",
     "output_type": "stream",
     "text": [
      "[I 2025-03-28 14:23:23,691] Trial 0 finished with value: -1.0 and parameters: {'dbscan__eps': 8.42938948787148, 'dbscan__min_samples': 14}. Best is trial 0 with value: -1.0.\n"
     ]
    }
   ],
   "source": [
    "# Using DBSCAN\n",
    "print(\"Optimizing DBSCAN...\")\n",
    "best_dbscan_params, best_dbscan_score, best_dbscan_trial = optimize_clustering(dbscan_objective, X_sample, n_trials=20)\n",
    "print(f\"Best DBSCAN Params: {best_dbscan_params}, Best Score: {best_dbscan_score}\")\n",
    "\n",
    "# Using KMeans\n",
    "print(\"Optimizing KMeans...\")\n",
    "best_kmeans_params, best_kmeans_score, best_kmeans_trial = optimize_clustering(kmeans_objective, X_sample, n_trials=20)\n",
    "print(f\"Best KMeans Params: {best_kmeans_params}, Best Score: {best_kmeans_score}\")\n",
    "\n",
    "# Using Hierarchical Clustering\n",
    "print(\"Optimizing Hierarchical Clustering...\")\n",
    "best_hierarchical_params, best_hierarchical_score, best_hierarchical_trial = optimize_clustering(hierarchical_objective, X_sample, n_trials=20)\n",
    "print(f\"Best Hierarchical Params: {best_hierarchical_params}, Best Score: {best_hierarchical_score}\")\n",
    "\n",
    "\n",
    "print(\"\\n --------Overall best model---------\")\n",
    "best_scores = {\n",
    "    'DBSCAN': best_dbscan_score,\n",
    "    'KMeans': best_kmeans_score,\n",
    "    'Hierarchical': best_hierarchical_score\n",
    "}\n",
    "\n",
    "best_model_name = max(best_scores, key=best_scores.get)\n",
    "print(f\"Best overall model: {best_model_name} with score {best_scores[best_model_name]}\")\n"
   ]
  },
  {
   "cell_type": "code",
   "execution_count": null,
   "metadata": {},
   "outputs": [],
   "source": [
    "# Apply Best Model"
   ]
  },
  {
   "cell_type": "code",
   "execution_count": null,
   "metadata": {},
   "outputs": [],
   "source": [
    "X_processed = preprocessor.fit_transform(X)"
   ]
  },
  {
   "cell_type": "code",
   "execution_count": null,
   "metadata": {},
   "outputs": [],
   "source": [
    "# Select best model\n",
    "if best_model_name == 'DBSCAN':\n",
    "    best_model = DBSCAN(**{k.replace('dbscan__', ''): v for k, v in best_dbscan_params.items()})\n",
    "elif best_model_name == 'KMeans':\n",
    "    best_model = KMeans(**{k.replace('kmeans__', ''): v for k, v in best_kmeans_params.items()})\n",
    "else: \n",
    "    best_model = AgglomerativeClustering(**{k.replace('hierarchical__', ''): v for k, v in best_hierarchical_params.items()})\n"
   ]
  },
  {
   "cell_type": "code",
   "execution_count": null,
   "metadata": {},
   "outputs": [],
   "source": [
    "# Post Analysis"
   ]
  },
  {
   "cell_type": "code",
   "execution_count": null,
   "metadata": {},
   "outputs": [],
   "source": [
    "print(\"\\nCluster distribution:\")\n",
    "print(X['cluster'].value_counts())"
   ]
  },
  {
   "cell_type": "code",
   "execution_count": null,
   "metadata": {},
   "outputs": [],
   "source": [
    "# Check Analysis"
   ]
  },
  {
   "cell_type": "code",
   "execution_count": null,
   "metadata": {},
   "outputs": [],
   "source": []
  },
  {
   "cell_type": "code",
   "execution_count": null,
   "metadata": {},
   "outputs": [],
   "source": []
  },
  {
   "cell_type": "code",
   "execution_count": null,
   "metadata": {},
   "outputs": [],
   "source": []
  },
  {
   "cell_type": "code",
   "execution_count": null,
   "metadata": {},
   "outputs": [],
   "source": []
  },
  {
   "cell_type": "code",
   "execution_count": null,
   "metadata": {},
   "outputs": [],
   "source": []
  },
  {
   "cell_type": "code",
   "execution_count": null,
   "metadata": {},
   "outputs": [],
   "source": []
  },
  {
   "cell_type": "code",
   "execution_count": null,
   "metadata": {},
   "outputs": [],
   "source": []
  },
  {
   "cell_type": "code",
   "execution_count": null,
   "metadata": {},
   "outputs": [],
   "source": []
  },
  {
   "cell_type": "markdown",
   "metadata": {},
   "source": [
    "# TODO:"
   ]
  },
  {
   "cell_type": "markdown",
   "metadata": {},
   "source": [
    "\n",
    "A matchmaking system needs to:\n",
    "\n",
    "1. Represent users behaviors as structured data\n",
    "1. Find suitable matches based on similarity or compatibility rules\n",
    "1. Have a ranking system for potential matches according to relevance (previous point)\n",
    "1. Be Scalable, meaning it must be able to handle many users and frequent updates. \n",
    "\n",
    "Possible systems:\n",
    "\n",
    "\n",
    "1)  vector embeded system: Vector databases are high-dimensional vectors (numerical representations) and allow for similarity searches, they rely on space as data is translated to vectors.\n",
    "\n",
    "Problems:\n",
    "- Balancing factors: This is hard part as you need to weight space.\n",
    "- Interpretability: They are less straight foward on how the decision was taken.\n",
    "- Cold start problem: With no data, creating a meaningful vectors initially would need a strategy to handle this."
   ]
  },
  {
   "cell_type": "code",
   "execution_count": null,
   "metadata": {},
   "outputs": [],
   "source": []
  },
  {
   "cell_type": "code",
   "execution_count": null,
   "metadata": {},
   "outputs": [],
   "source": []
  },
  {
   "cell_type": "code",
   "execution_count": null,
   "metadata": {},
   "outputs": [],
   "source": []
  },
  {
   "cell_type": "code",
   "execution_count": null,
   "metadata": {},
   "outputs": [],
   "source": []
  },
  {
   "cell_type": "markdown",
   "metadata": {},
   "source": [
    "---\n",
    "---\n",
    "---\n",
    "# BROULILLON"
   ]
  },
  {
   "cell_type": "code",
   "execution_count": null,
   "metadata": {},
   "outputs": [],
   "source": [
    "\n",
    "df.filter(df['user_id'] == 'Xbkcq0zL9hbwILnFpTSfO5Zd9jm2').sort(by=['started_at'])"
   ]
  },
  {
   "cell_type": "code",
   "execution_count": null,
   "metadata": {},
   "outputs": [],
   "source": [
    "user = 'Xbkcq0zL9hbwILnFpTSfO5Zd9jm2'\n",
    "df.filter(df['user_id'] == user) ['started_at'].min(),df.filter(df['user_id'] == user) ['started_at'].max()"
   ]
  }
 ],
 "metadata": {
  "kernelspec": {
   "display_name": "base",
   "language": "python",
   "name": "python3"
  },
  "language_info": {
   "codemirror_mode": {
    "name": "ipython",
    "version": 3
   },
   "file_extension": ".py",
   "mimetype": "text/x-python",
   "name": "python",
   "nbconvert_exporter": "python",
   "pygments_lexer": "ipython3",
   "version": "3.12.3"
  }
 },
 "nbformat": 4,
 "nbformat_minor": 2
}
